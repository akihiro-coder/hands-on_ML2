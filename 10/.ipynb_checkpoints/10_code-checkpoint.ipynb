{
 "cells": [
  {
   "cell_type": "markdown",
   "id": "2f774e6c",
   "metadata": {},
   "source": [
    "#  シーケンシャルAPIを使った画像分類器の構築"
   ]
  },
  {
   "cell_type": "markdown",
   "id": "b27e2c04",
   "metadata": {},
   "source": [
    "## Kerasを使ったデータセットのロード"
   ]
  },
  {
   "cell_type": "code",
   "execution_count": 6,
   "id": "07b85201",
   "metadata": {},
   "outputs": [
    {
     "name": "stderr",
     "output_type": "stream",
     "text": [
      "2021-10-09 04:08:34.784396: W tensorflow/stream_executor/platform/default/dso_loader.cc:64] Could not load dynamic library 'libcudart.so.11.0'; dlerror: libcudart.so.11.0: cannot open shared object file: No such file or directory\n",
      "2021-10-09 04:08:34.784441: I tensorflow/stream_executor/cuda/cudart_stub.cc:29] Ignore above cudart dlerror if you do not have a GPU set up on your machine.\n"
     ]
    }
   ],
   "source": [
    "import tensorflow as tf\n",
    "from tensorflow import keras "
   ]
  },
  {
   "cell_type": "code",
   "execution_count": 9,
   "id": "18249f1d",
   "metadata": {},
   "outputs": [],
   "source": [
    "fashion_mnist = keras.datasets.fashion_mnist\n",
    "(X_train_full, y_train_full), (X_test, y_test) = fashion_mnist.load_data()"
   ]
  },
  {
   "cell_type": "code",
   "execution_count": 10,
   "id": "aabff88c",
   "metadata": {},
   "outputs": [
    {
     "data": {
      "text/plain": [
       "(60000, 28, 28)"
      ]
     },
     "execution_count": 10,
     "metadata": {},
     "output_type": "execute_result"
    }
   ],
   "source": [
    "X_train_full.shape"
   ]
  },
  {
   "cell_type": "code",
   "execution_count": 11,
   "id": "76cb537d",
   "metadata": {},
   "outputs": [
    {
     "data": {
      "text/plain": [
       "dtype('uint8')"
      ]
     },
     "execution_count": 11,
     "metadata": {},
     "output_type": "execute_result"
    }
   ],
   "source": [
    "X_train_full.dtype"
   ]
  },
  {
   "cell_type": "markdown",
   "id": "68a1169c",
   "metadata": {},
   "source": [
    "- 検証セットをプラスで作らないといけない\n",
    "- 勾配降下法を使ってニューラルネットワークを訓練しようとしているため、入力特徴量をスケーリングしなければならない\n",
    "    - [標準化と正規化](https://aiacademy.jp/texts/show/?id=555)\n",
    "- ピクセルの明度を255.0 で割って（同時に浮動小数点数への変換も行われる）、ピクセルの明度を0から1 の範囲で表現することにする"
   ]
  },
  {
   "cell_type": "code",
   "execution_count": 12,
   "id": "0ea054df",
   "metadata": {},
   "outputs": [],
   "source": [
    "X_valid, X_train = X_train_full[:5000] / 255.0, X_train_full[5000:] / 255.0\n",
    "y_valid, y_train = y_train_full[:5000], y_train_full[5000:]"
   ]
  },
  {
   "cell_type": "code",
   "execution_count": 13,
   "id": "ace7cffb",
   "metadata": {},
   "outputs": [],
   "source": [
    "# クラスに与えられている数字を元に順番に何を表しているのかをリスト化\n",
    "class_name = ['T-shirt/top', 'Trouser', 'Pullover', 'Dress', 'Coat', 'Sandal', 'Shirt', 'Sneaker', 'Bag',  'Ankle boot']"
   ]
  },
  {
   "cell_type": "code",
   "execution_count": 14,
   "id": "08932d9b",
   "metadata": {},
   "outputs": [
    {
     "data": {
      "text/plain": [
       "4"
      ]
     },
     "execution_count": 14,
     "metadata": {},
     "output_type": "execute_result"
    }
   ],
   "source": [
    "y_train[0]"
   ]
  },
  {
   "cell_type": "code",
   "execution_count": 15,
   "id": "584d6d52",
   "metadata": {},
   "outputs": [
    {
     "data": {
      "text/plain": [
       "'Coat'"
      ]
     },
     "execution_count": 15,
     "metadata": {},
     "output_type": "execute_result"
    }
   ],
   "source": [
    "class_name[y_train[0]]"
   ]
  },
  {
   "cell_type": "markdown",
   "id": "0d307c7a",
   "metadata": {},
   "source": [
    "## シーケンシャルAPIを使ったモデルの作成"
   ]
  },
  {
   "cell_type": "code",
   "execution_count": 16,
   "id": "8d8ed416",
   "metadata": {},
   "outputs": [
    {
     "name": "stderr",
     "output_type": "stream",
     "text": [
      "2021-10-09 02:10:06.043440: W tensorflow/stream_executor/platform/default/dso_loader.cc:64] Could not load dynamic library 'libcuda.so.1'; dlerror: libcuda.so.1: cannot open shared object file: No such file or directory\n",
      "2021-10-09 02:10:06.043515: W tensorflow/stream_executor/cuda/cuda_driver.cc:269] failed call to cuInit: UNKNOWN ERROR (303)\n",
      "2021-10-09 02:10:06.043545: I tensorflow/stream_executor/cuda/cuda_diagnostics.cc:156] kernel driver does not appear to be running on this host (LAPTOP-7G8THKRV): /proc/driver/nvidia/version does not exist\n",
      "2021-10-09 02:10:06.044010: I tensorflow/core/platform/cpu_feature_guard.cc:142] This TensorFlow binary is optimized with oneAPI Deep Neural Network Library (oneDNN) to use the following CPU instructions in performance-critical operations:  AVX2 FMA\n",
      "To enable them in other operations, rebuild TensorFlow with the appropriate compiler flags.\n"
     ]
    }
   ],
   "source": [
    "# ニューラルネットワークを作る\n",
    "#２個の隠れ層を持つ分類MLP\n",
    "model = keras.models.Sequential() # インスタンス作成 , Sequentialモデル（Kerasのニューラルネットワークモデルで最も単純なもの)を作る\n",
    "model.add(keras.layers.Flatten(input_shape=[28,28])) # Flatten：個々の入力画像を一次元配列に変換。\n",
    "#個々のDense層は、専用の重み行列と、バイアス行のベクトルを管理している\n",
    "model.add(keras.layers.Dense(300, activation='relu')) \n",
    "model.add(keras.layers.Dense(100, activation='relu'))\n",
    "# 出力層 クラスごとに一個、合計10個のニューロンを持つ\n",
    "model.add(keras.layers.Dense(10, activation='softmax'))"
   ]
  },
  {
   "cell_type": "code",
   "execution_count": 17,
   "id": "678c7cdd",
   "metadata": {},
   "outputs": [
    {
     "name": "stdout",
     "output_type": "stream",
     "text": [
      "Model: \"sequential\"\n",
      "_________________________________________________________________\n",
      "Layer (type)                 Output Shape              Param #   \n",
      "=================================================================\n",
      "flatten (Flatten)            (None, 784)               0         \n",
      "_________________________________________________________________\n",
      "dense (Dense)                (None, 300)               235500    \n",
      "_________________________________________________________________\n",
      "dense_1 (Dense)              (None, 100)               30100     \n",
      "_________________________________________________________________\n",
      "dense_2 (Dense)              (None, 10)                1010      \n",
      "=================================================================\n",
      "Total params: 266,610\n",
      "Trainable params: 266,610\n",
      "Non-trainable params: 0\n",
      "_________________________________________________________________\n"
     ]
    }
   ],
   "source": [
    "model.summary()\n",
    "#、第1 の隠れ層は784 × 300 の接続重みと300 個のバイアス項を持つため、235,500 個ものパラメータを持つことになる"
   ]
  },
  {
   "cell_type": "code",
   "execution_count": 18,
   "id": "2a9c2476",
   "metadata": {},
   "outputs": [
    {
     "data": {
      "text/plain": [
       "[<keras.layers.core.Flatten at 0x7fb126fac6a0>,\n",
       " <keras.layers.core.Dense at 0x7fb126fac730>,\n",
       " <keras.layers.core.Dense at 0x7fb129137970>,\n",
       " <keras.layers.core.Dense at 0x7fb126f8cd60>]"
      ]
     },
     "execution_count": 18,
     "metadata": {},
     "output_type": "execute_result"
    }
   ],
   "source": [
    "model.layers"
   ]
  },
  {
   "cell_type": "code",
   "execution_count": 19,
   "id": "59002ed0",
   "metadata": {},
   "outputs": [
    {
     "data": {
      "text/plain": [
       "'dense'"
      ]
     },
     "execution_count": 19,
     "metadata": {},
     "output_type": "execute_result"
    }
   ],
   "source": [
    "hidden1 = model.layers[1]\n",
    "hidden1.name"
   ]
  },
  {
   "cell_type": "code",
   "execution_count": 20,
   "id": "5e5491e3",
   "metadata": {},
   "outputs": [
    {
     "data": {
      "text/plain": [
       "'flatten'"
      ]
     },
     "execution_count": 20,
     "metadata": {},
     "output_type": "execute_result"
    }
   ],
   "source": [
    "hidden0 = model.layers[0]\n",
    "hidden0.name"
   ]
  },
  {
   "cell_type": "code",
   "execution_count": 21,
   "id": "b7402658",
   "metadata": {},
   "outputs": [
    {
     "data": {
      "text/plain": [
       "True"
      ]
     },
     "execution_count": 21,
     "metadata": {},
     "output_type": "execute_result"
    }
   ],
   "source": [
    "model.get_layer('dense') is hidden1"
   ]
  },
  {
   "cell_type": "code",
   "execution_count": 22,
   "id": "bfe90bb5",
   "metadata": {},
   "outputs": [
    {
     "data": {
      "text/plain": [
       "array([[ 0.02742714, -0.00393449,  0.03646967, ...,  0.00881894,\n",
       "        -0.01439695,  0.03299202],\n",
       "       [ 0.00038649,  0.01178152,  0.04729552, ...,  0.06997332,\n",
       "        -0.0208658 , -0.03843287],\n",
       "       [-0.01717647,  0.0073136 ,  0.02306765, ..., -0.07102776,\n",
       "        -0.05259281,  0.06896302],\n",
       "       ...,\n",
       "       [-0.03076287,  0.05555698,  0.04943955, ..., -0.06829549,\n",
       "         0.00995853,  0.0128368 ],\n",
       "       [ 0.01378851,  0.01537205, -0.01148572, ...,  0.04685014,\n",
       "         0.01440445,  0.01468527],\n",
       "       [-0.05277153, -0.0705129 , -0.05081115, ..., -0.0441158 ,\n",
       "         0.01115488, -0.04616929]], dtype=float32)"
      ]
     },
     "execution_count": 22,
     "metadata": {},
     "output_type": "execute_result"
    }
   ],
   "source": [
    "# 層のget_weights()、set_weights() メソッドを使えば、層のすべてのパラメータを読み書きできる。\n",
    "# Dense層の場合、パラメータは接続重みとバイアス項の両方である。\n",
    "weights, biases = hidden1.get_weights()\n",
    "weights"
   ]
  },
  {
   "cell_type": "markdown",
   "id": "1a0b73e2",
   "metadata": {},
   "source": [
    "- Dense層が接続重みを無作為に初期化している\n",
    "- kernel_initializerで異なる初期化値を与えることが出来る"
   ]
  },
  {
   "cell_type": "code",
   "execution_count": 23,
   "id": "bf39bee6",
   "metadata": {},
   "outputs": [
    {
     "data": {
      "text/plain": [
       "(784, 300)"
      ]
     },
     "execution_count": 23,
     "metadata": {},
     "output_type": "execute_result"
    }
   ],
   "source": [
    "weights.shape"
   ]
  },
  {
   "cell_type": "code",
   "execution_count": 24,
   "id": "20682c33",
   "metadata": {},
   "outputs": [
    {
     "data": {
      "text/plain": [
       "array([0., 0., 0., 0., 0., 0., 0., 0., 0., 0., 0., 0., 0., 0., 0., 0., 0.,\n",
       "       0., 0., 0., 0., 0., 0., 0., 0., 0., 0., 0., 0., 0., 0., 0., 0., 0.,\n",
       "       0., 0., 0., 0., 0., 0., 0., 0., 0., 0., 0., 0., 0., 0., 0., 0., 0.,\n",
       "       0., 0., 0., 0., 0., 0., 0., 0., 0., 0., 0., 0., 0., 0., 0., 0., 0.,\n",
       "       0., 0., 0., 0., 0., 0., 0., 0., 0., 0., 0., 0., 0., 0., 0., 0., 0.,\n",
       "       0., 0., 0., 0., 0., 0., 0., 0., 0., 0., 0., 0., 0., 0., 0., 0., 0.,\n",
       "       0., 0., 0., 0., 0., 0., 0., 0., 0., 0., 0., 0., 0., 0., 0., 0., 0.,\n",
       "       0., 0., 0., 0., 0., 0., 0., 0., 0., 0., 0., 0., 0., 0., 0., 0., 0.,\n",
       "       0., 0., 0., 0., 0., 0., 0., 0., 0., 0., 0., 0., 0., 0., 0., 0., 0.,\n",
       "       0., 0., 0., 0., 0., 0., 0., 0., 0., 0., 0., 0., 0., 0., 0., 0., 0.,\n",
       "       0., 0., 0., 0., 0., 0., 0., 0., 0., 0., 0., 0., 0., 0., 0., 0., 0.,\n",
       "       0., 0., 0., 0., 0., 0., 0., 0., 0., 0., 0., 0., 0., 0., 0., 0., 0.,\n",
       "       0., 0., 0., 0., 0., 0., 0., 0., 0., 0., 0., 0., 0., 0., 0., 0., 0.,\n",
       "       0., 0., 0., 0., 0., 0., 0., 0., 0., 0., 0., 0., 0., 0., 0., 0., 0.,\n",
       "       0., 0., 0., 0., 0., 0., 0., 0., 0., 0., 0., 0., 0., 0., 0., 0., 0.,\n",
       "       0., 0., 0., 0., 0., 0., 0., 0., 0., 0., 0., 0., 0., 0., 0., 0., 0.,\n",
       "       0., 0., 0., 0., 0., 0., 0., 0., 0., 0., 0., 0., 0., 0., 0., 0., 0.,\n",
       "       0., 0., 0., 0., 0., 0., 0., 0., 0., 0., 0.], dtype=float32)"
      ]
     },
     "execution_count": 24,
     "metadata": {},
     "output_type": "execute_result"
    }
   ],
   "source": [
    "biases"
   ]
  },
  {
   "cell_type": "markdown",
   "id": "a8f4a76c",
   "metadata": {},
   "source": [
    "- 0で初期化している\n",
    "- bias_initializerで異なる初期化値を与えることが出来る"
   ]
  },
  {
   "cell_type": "code",
   "execution_count": 25,
   "id": "90c0db54",
   "metadata": {},
   "outputs": [
    {
     "data": {
      "text/plain": [
       "(300,)"
      ]
     },
     "execution_count": 25,
     "metadata": {},
     "output_type": "execute_result"
    }
   ],
   "source": [
    "biases.shape"
   ]
  },
  {
   "cell_type": "markdown",
   "id": "973398b2",
   "metadata": {},
   "source": [
    "## モデルのコンパイル"
   ]
  },
  {
   "cell_type": "code",
   "execution_count": 26,
   "id": "46c8072d",
   "metadata": {},
   "outputs": [],
   "source": [
    "#学習のためのモデルを設定\n",
    "model.compile(optimizer='sgd', loss='sparse_categorical_crossentropy', metrics=['accuracy'])\n",
    "# 損失関数の種類、評価指標、最適化関数を指定\n",
    "# sgd: 確率的勾配降下法を使ってモデルを訓練する  確率的勾配降下 (Stochastic gradient descent)。\n",
    "# loss: ラベルが疎でクラスが相互排他的だから sparse_categorical_crossentropy: 0,1,2,....9という数字そのものを損失関数に使用する\n",
    "# len(X_train), len(y_train) → 55000個を確認"
   ]
  },
  {
   "cell_type": "code",
   "execution_count": 27,
   "id": "cfc6c786",
   "metadata": {},
   "outputs": [
    {
     "name": "stderr",
     "output_type": "stream",
     "text": [
      "2021-10-09 02:10:20.924261: I tensorflow/compiler/mlir/mlir_graph_optimization_pass.cc:185] None of the MLIR Optimization Passes are enabled (registered 2)\n"
     ]
    },
    {
     "name": "stdout",
     "output_type": "stream",
     "text": [
      "Epoch 1/30\n",
      "1719/1719 [==============================] - 5s 3ms/step - loss: 0.7256 - accuracy: 0.7573 - val_loss: 0.5239 - val_accuracy: 0.8186\n",
      "Epoch 2/30\n",
      "1719/1719 [==============================] - 4s 2ms/step - loss: 0.4901 - accuracy: 0.8300 - val_loss: 0.4469 - val_accuracy: 0.8412\n",
      "Epoch 3/30\n",
      "1719/1719 [==============================] - 4s 2ms/step - loss: 0.4426 - accuracy: 0.8454 - val_loss: 0.4534 - val_accuracy: 0.8396\n",
      "Epoch 4/30\n",
      "1719/1719 [==============================] - 4s 2ms/step - loss: 0.4132 - accuracy: 0.8549 - val_loss: 0.4255 - val_accuracy: 0.8524\n",
      "Epoch 5/30\n",
      "1719/1719 [==============================] - 4s 2ms/step - loss: 0.3931 - accuracy: 0.8619 - val_loss: 0.3810 - val_accuracy: 0.8698\n",
      "Epoch 6/30\n",
      "1719/1719 [==============================] - 4s 2ms/step - loss: 0.3778 - accuracy: 0.8669 - val_loss: 0.3628 - val_accuracy: 0.8756\n",
      "Epoch 7/30\n",
      "1719/1719 [==============================] - 4s 2ms/step - loss: 0.3645 - accuracy: 0.8702 - val_loss: 0.3733 - val_accuracy: 0.8706\n",
      "Epoch 8/30\n",
      "1719/1719 [==============================] - 4s 2ms/step - loss: 0.3514 - accuracy: 0.8755 - val_loss: 0.3659 - val_accuracy: 0.8706\n",
      "Epoch 9/30\n",
      "1719/1719 [==============================] - 4s 2ms/step - loss: 0.3422 - accuracy: 0.8791 - val_loss: 0.3684 - val_accuracy: 0.8720\n",
      "Epoch 10/30\n",
      "1719/1719 [==============================] - 5s 3ms/step - loss: 0.3322 - accuracy: 0.8814 - val_loss: 0.3641 - val_accuracy: 0.8750\n",
      "Epoch 11/30\n",
      "1719/1719 [==============================] - 4s 3ms/step - loss: 0.3253 - accuracy: 0.8830 - val_loss: 0.3509 - val_accuracy: 0.8814\n",
      "Epoch 12/30\n",
      "1719/1719 [==============================] - 4s 3ms/step - loss: 0.3160 - accuracy: 0.8871 - val_loss: 0.3382 - val_accuracy: 0.8804\n",
      "Epoch 13/30\n",
      "1719/1719 [==============================] - 5s 3ms/step - loss: 0.3098 - accuracy: 0.8894 - val_loss: 0.3381 - val_accuracy: 0.8774\n",
      "Epoch 14/30\n",
      "1719/1719 [==============================] - 5s 3ms/step - loss: 0.3033 - accuracy: 0.8912 - val_loss: 0.3362 - val_accuracy: 0.8850\n",
      "Epoch 15/30\n",
      "1719/1719 [==============================] - 5s 3ms/step - loss: 0.2962 - accuracy: 0.8933 - val_loss: 0.3311 - val_accuracy: 0.8816\n",
      "Epoch 16/30\n",
      "1719/1719 [==============================] - 4s 3ms/step - loss: 0.2903 - accuracy: 0.8956 - val_loss: 0.3147 - val_accuracy: 0.8876\n",
      "Epoch 17/30\n",
      "1719/1719 [==============================] - 5s 3ms/step - loss: 0.2847 - accuracy: 0.8986 - val_loss: 0.3191 - val_accuracy: 0.8868\n",
      "Epoch 18/30\n",
      "1719/1719 [==============================] - 4s 3ms/step - loss: 0.2792 - accuracy: 0.8989 - val_loss: 0.3155 - val_accuracy: 0.8892\n",
      "Epoch 19/30\n",
      "1719/1719 [==============================] - 4s 2ms/step - loss: 0.2742 - accuracy: 0.9018 - val_loss: 0.3131 - val_accuracy: 0.8844\n",
      "Epoch 20/30\n",
      "1719/1719 [==============================] - 4s 2ms/step - loss: 0.2689 - accuracy: 0.9033 - val_loss: 0.3097 - val_accuracy: 0.8914\n",
      "Epoch 21/30\n",
      "1719/1719 [==============================] - 5s 3ms/step - loss: 0.2643 - accuracy: 0.9041 - val_loss: 0.3073 - val_accuracy: 0.8886\n",
      "Epoch 22/30\n",
      "1719/1719 [==============================] - 5s 3ms/step - loss: 0.2594 - accuracy: 0.9077 - val_loss: 0.3087 - val_accuracy: 0.8934\n",
      "Epoch 23/30\n",
      "1719/1719 [==============================] - 5s 3ms/step - loss: 0.2553 - accuracy: 0.9078 - val_loss: 0.3105 - val_accuracy: 0.8878\n",
      "Epoch 24/30\n",
      "1719/1719 [==============================] - 4s 3ms/step - loss: 0.2503 - accuracy: 0.9101 - val_loss: 0.3051 - val_accuracy: 0.8948\n",
      "Epoch 25/30\n",
      "1719/1719 [==============================] - 5s 3ms/step - loss: 0.2468 - accuracy: 0.9109 - val_loss: 0.3077 - val_accuracy: 0.8888\n",
      "Epoch 26/30\n",
      "1719/1719 [==============================] - 5s 3ms/step - loss: 0.2424 - accuracy: 0.9134 - val_loss: 0.3045 - val_accuracy: 0.8898\n",
      "Epoch 27/30\n",
      "1719/1719 [==============================] - 5s 3ms/step - loss: 0.2379 - accuracy: 0.9144 - val_loss: 0.2953 - val_accuracy: 0.8948\n",
      "Epoch 28/30\n",
      "1719/1719 [==============================] - 4s 3ms/step - loss: 0.2345 - accuracy: 0.9155 - val_loss: 0.2961 - val_accuracy: 0.8910\n",
      "Epoch 29/30\n",
      "1719/1719 [==============================] - 5s 3ms/step - loss: 0.2300 - accuracy: 0.9172 - val_loss: 0.3165 - val_accuracy: 0.8866\n",
      "Epoch 30/30\n",
      "1719/1719 [==============================] - 5s 3ms/step - loss: 0.2265 - accuracy: 0.9198 - val_loss: 0.3046 - val_accuracy: 0.8890\n"
     ]
    }
   ],
   "source": [
    "history = model.fit(X_train, y_train, epochs=30, validation_data=(X_valid, y_valid))"
   ]
  },
  {
   "cell_type": "markdown",
   "id": "a02b0850",
   "metadata": {},
   "source": [
    "エポック数：\n",
    "画像のデータセットを訓練に何周するのかという設定値\n",
    "\n",
    "- ミニバッチサイズ：\n",
    "    - ミニバッチサイズを10,20と設定すると、\n",
    "    - 画像10枚学習するごとに重みの更新をする、\n",
    "    - 画像20枚学習するごとに重みの更新をするというように、まとめて重みの更新を行うデータの数をミニバッチサイズと呼ぶ\n",
    "\n",
    "\n",
    "- 例えば、mnistの場合、全部で7万枚の画像がある\n",
    "- ６万枚を訓練に使うことが多い\n",
    "- ６万枚の画像をバッチサイズ10で学習するとなると、６万/１０で６千回の重みの更新がある\n",
    "- その重みの更新で、もし精度が上がりきっていない場合は、エポック数を3,5と設定すると\n",
    "- そのデータセットを3周ないし5周使用してみて、重みの更新をし続ける\n"
   ]
  },
  {
   "cell_type": "markdown",
   "id": "4fa8377d",
   "metadata": {},
   "source": [
    "- 検証データセットを引数に与えると、\n",
    "- 検証セットに対す損失や正解率を表示してくれる → モデルの実際の性能を知るためにとても役に立つ\n",
    "- 性能の大小\n",
    "    - （例）訓練セット >> 検証セット  → モデルは訓練セットに過学習している"
   ]
  },
  {
   "cell_type": "code",
   "execution_count": 30,
   "id": "d5a9d236",
   "metadata": {},
   "outputs": [
    {
     "data": {
      "image/png": "[encoded data removed]",
      "text/plain": [
       "<Figure size 576x360 with 1 Axes>"
      ]
     },
     "metadata": {
      "needs_background": "light"
     },
     "output_type": "display_data"
    }
   ],
   "source": [
    "import pandas as pd \n",
    "import matplotlib.pyplot as plt \n",
    "\n",
    "pd.DataFrame(history.history).plot(figsize=(8,5))\n",
    "plt.grid(True)\n",
    "plt.gca().set_ylim(0,1)\n",
    "plt.show()"
   ]
  },
  {
   "cell_type": "markdown",
   "id": "af7b0091",
   "metadata": {},
   "source": [
    "- ２つの損失関数のグラフを見ると、過学習している\n",
    "- 検証セットが5000個と少ないのが原因と見ている"
   ]
  },
  {
   "cell_type": "markdown",
   "id": "9c993534",
   "metadata": {},
   "source": [
    "### テストセットによる評価"
   ]
  },
  {
   "cell_type": "code",
   "execution_count": 31,
   "id": "80672bb7",
   "metadata": {},
   "outputs": [
    {
     "name": "stdout",
     "output_type": "stream",
     "text": [
      "313/313 [==============================] - 1s 2ms/step - loss: 62.4396 - accuracy: 0.8472\n"
     ]
    },
    {
     "data": {
      "text/plain": [
       "[62.43956756591797, 0.8471999764442444]"
      ]
     },
     "execution_count": 31,
     "metadata": {},
     "output_type": "execute_result"
    }
   ],
   "source": [
    "model.evaluate(X_test, y_test)"
   ]
  },
  {
   "cell_type": "markdown",
   "id": "dd225b8f",
   "metadata": {},
   "source": [
    "- テストセットでは検証セットよりも少し性能が下がるのが普通\n",
    "- ハイパーパラメータが検証セットで調整されている。一方でテストセットでは調整されていない。それが理由。"
   ]
  },
  {
   "cell_type": "markdown",
   "id": "ebcf8947",
   "metadata": {},
   "source": [
    "## モデルを使った予測"
   ]
  },
  {
   "cell_type": "code",
   "execution_count": 32,
   "id": "e7671b36",
   "metadata": {},
   "outputs": [
    {
     "data": {
      "text/plain": [
       "array([[0., 0., 0., 0., 0., 0., 0., 0., 0., 1.],\n",
       "       [0., 0., 1., 0., 0., 0., 0., 0., 0., 0.],\n",
       "       [0., 1., 0., 0., 0., 0., 0., 0., 0., 0.]], dtype=float32)"
      ]
     },
     "execution_count": 32,
     "metadata": {},
     "output_type": "execute_result"
    }
   ],
   "source": [
    "X_new = X_test[:3]\n",
    "y_proba = model.predict(X_new)\n",
    "y_proba.round(2)\n",
    "\n",
    "\n",
    "\n",
    "\n"
   ]
  },
  {
   "cell_type": "code",
   "execution_count": 33,
   "id": "cfa1bde6",
   "metadata": {},
   "outputs": [
    {
     "data": {
      "text/plain": [
       "array([9, 2, 1])"
      ]
     },
     "execution_count": 33,
     "metadata": {},
     "output_type": "execute_result"
    }
   ],
   "source": [
    "# 推定確率が最も高いクラスさえわかればよい場合の推定したものを表示\n",
    "y_pred = model.predict(X_new)\n",
    "classes_x=np.argmax(y_pred, axis=1)\n",
    "classes_x"
   ]
  },
  {
   "cell_type": "code",
   "execution_count": 34,
   "id": "57d6f138",
   "metadata": {},
   "outputs": [
    {
     "data": {
      "text/plain": [
       "array(['Ankle boot', 'Pullover', 'Trouser'], dtype='<U11')"
      ]
     },
     "execution_count": 34,
     "metadata": {},
     "output_type": "execute_result"
    }
   ],
   "source": [
    "np.array(class_name)[classes_x]"
   ]
  },
  {
   "cell_type": "code",
   "execution_count": 1,
   "id": "1071130c",
   "metadata": {},
   "outputs": [],
   "source": [
    "# 正解ラベルを表示\n",
    "# y_new = y_test[]\n"
   ]
  },
  {
   "cell_type": "code",
   "execution_count": null,
   "id": "1e7b849b",
   "metadata": {},
   "outputs": [],
   "source": []
  },
  {
   "cell_type": "code",
   "execution_count": null,
   "id": "09a4bdb5",
   "metadata": {},
   "outputs": [],
   "source": []
  },
  {
   "cell_type": "code",
   "execution_count": null,
   "id": "77e79738",
   "metadata": {},
   "outputs": [],
   "source": []
  },
  {
   "cell_type": "code",
   "execution_count": null,
   "id": "34e02bb0",
   "metadata": {},
   "outputs": [],
   "source": []
  },
  {
   "cell_type": "code",
   "execution_count": null,
   "id": "fe3c993d",
   "metadata": {},
   "outputs": [],
   "source": []
  },
  {
   "cell_type": "markdown",
   "id": "8819b0f2",
   "metadata": {},
   "source": [
    "# シーケンシャルAPIを使った回帰MLPの構築"
   ]
  },
  {
   "cell_type": "code",
   "execution_count": 2,
   "id": "a7aed1f6",
   "metadata": {},
   "outputs": [],
   "source": [
    "from sklearn.datasets import fetch_california_housing\n",
    "from sklearn.model_selection import train_test_split\n",
    "from sklearn.preprocessing import StandardScaler"
   ]
  },
  {
   "cell_type": "code",
   "execution_count": 3,
   "id": "f6b3a876",
   "metadata": {},
   "outputs": [],
   "source": [
    "housing = fetch_california_housing()#インスタンス生成\n",
    "# 全体データから、訓練データとテストデータに分ける\n",
    "X_train_full, X_test, y_train_full, y_test = train_test_split(\n",
    "    housing.data, housing.target)\n",
    "# 訓練データから、訓練セットと検証セットに分ける\n",
    "X_train, X_valid, y_train, y_valid = train_test_split(\n",
    "    X_train_full, y_train_full)"
   ]
  },
  {
   "cell_type": "code",
   "execution_count": 4,
   "id": "daf44207",
   "metadata": {},
   "outputs": [],
   "source": [
    "scaler = StandardScaler()# インスタンス生成\n",
    "X_train = scaler.fit_transform(X_train)\n",
    "X_valid = scaler.transform(X_valid)\n",
    "X_test = scaler.transform(X_test)"
   ]
  },
  {
   "cell_type": "code",
   "execution_count": 7,
   "id": "17f5a023",
   "metadata": {},
   "outputs": [
    {
     "name": "stderr",
     "output_type": "stream",
     "text": [
      "2021-10-09 04:08:38.918493: W tensorflow/stream_executor/platform/default/dso_loader.cc:64] Could not load dynamic library 'libcuda.so.1'; dlerror: libcuda.so.1: cannot open shared object file: No such file or directory\n",
      "2021-10-09 04:08:38.918551: W tensorflow/stream_executor/cuda/cuda_driver.cc:269] failed call to cuInit: UNKNOWN ERROR (303)\n",
      "2021-10-09 04:08:38.918582: I tensorflow/stream_executor/cuda/cuda_diagnostics.cc:156] kernel driver does not appear to be running on this host (LAPTOP-7G8THKRV): /proc/driver/nvidia/version does not exist\n",
      "2021-10-09 04:08:38.918786: I tensorflow/core/platform/cpu_feature_guard.cc:142] This TensorFlow binary is optimized with oneAPI Deep Neural Network Library (oneDNN) to use the following CPU instructions in performance-critical operations:  AVX2 FMA\n",
      "To enable them in other operations, rebuild TensorFlow with the appropriate compiler flags.\n"
     ]
    }
   ],
   "source": [
    "# ニューラルネットワークの作成\n",
    "model = keras.models.Sequential([\n",
    "    keras.layers.Dense(units=30, activation='relu', input_shape=X_train.shape[1:]),\n",
    "    keras.layers.Dense(1)\n",
    "])"
   ]
  },
  {
   "cell_type": "code",
   "execution_count": 8,
   "id": "662be2b8",
   "metadata": {},
   "outputs": [
    {
     "name": "stderr",
     "output_type": "stream",
     "text": [
      "/home/akihirookuda/anaconda3/envs/hands-on_ML2/lib/python3.9/site-packages/keras/optimizer_v2/optimizer_v2.py:355: UserWarning: The `lr` argument is deprecated, use `learning_rate` instead.\n",
      "  warnings.warn(\n"
     ]
    }
   ],
   "source": [
    "# 各使用関数の設定\n",
    "# 損失関数、最適化関数を設定\n",
    "# import tensorflow as tf\n",
    "# from keras import optimizers\n",
    "\n",
    "sgd = tf.keras.optimizers.SGD(lr=0.01, clipvalue=1.)\n",
    "model.compile(loss='mean_squared_error', optimizer=sgd)"
   ]
  },
  {
   "cell_type": "code",
   "execution_count": 9,
   "id": "076dc448",
   "metadata": {},
   "outputs": [
    {
     "name": "stdout",
     "output_type": "stream",
     "text": [
      "Epoch 1/20\n",
      "\r",
      "  1/363 [..............................] - ETA: 1:05 - loss: 5.3672"
     ]
    },
    {
     "name": "stderr",
     "output_type": "stream",
     "text": [
      "2021-10-09 04:08:59.855786: I tensorflow/compiler/mlir/mlir_graph_optimization_pass.cc:185] None of the MLIR Optimization Passes are enabled (registered 2)\n"
     ]
    },
    {
     "name": "stdout",
     "output_type": "stream",
     "text": [
      "363/363 [==============================] - 1s 1ms/step - loss: 0.8219 - val_loss: 0.4994\n",
      "Epoch 2/20\n",
      "363/363 [==============================] - 0s 1ms/step - loss: 0.5411 - val_loss: 0.4478\n",
      "Epoch 3/20\n",
      "363/363 [==============================] - 0s 1ms/step - loss: 0.4833 - val_loss: 0.4164\n",
      "Epoch 4/20\n",
      "363/363 [==============================] - 0s 1ms/step - loss: 0.4575 - val_loss: 0.4047\n",
      "Epoch 5/20\n",
      "363/363 [==============================] - 0s 1ms/step - loss: 0.4438 - val_loss: 0.3935\n",
      "Epoch 6/20\n",
      "363/363 [==============================] - 0s 1ms/step - loss: 0.4346 - val_loss: 0.3867\n",
      "Epoch 7/20\n",
      "363/363 [==============================] - 0s 948us/step - loss: 0.4275 - val_loss: 0.3803\n",
      "Epoch 8/20\n",
      "363/363 [==============================] - 0s 964us/step - loss: 0.4197 - val_loss: 0.3745\n",
      "Epoch 9/20\n",
      "363/363 [==============================] - 0s 873us/step - loss: 0.4191 - val_loss: 0.3807\n",
      "Epoch 10/20\n",
      "363/363 [==============================] - 0s 916us/step - loss: 0.4105 - val_loss: 0.3702\n",
      "Epoch 11/20\n",
      "363/363 [==============================] - 0s 1ms/step - loss: 0.4097 - val_loss: 0.3698\n",
      "Epoch 12/20\n",
      "363/363 [==============================] - 0s 958us/step - loss: 0.4024 - val_loss: 0.3620\n",
      "Epoch 13/20\n",
      "363/363 [==============================] - 0s 904us/step - loss: 0.4000 - val_loss: 0.3577\n",
      "Epoch 14/20\n",
      "363/363 [==============================] - 0s 895us/step - loss: 0.3945 - val_loss: 0.3617\n",
      "Epoch 15/20\n",
      "363/363 [==============================] - 0s 913us/step - loss: 0.3947 - val_loss: 0.3501\n",
      "Epoch 16/20\n",
      "363/363 [==============================] - 0s 929us/step - loss: 0.3890 - val_loss: 0.3546\n",
      "Epoch 17/20\n",
      "363/363 [==============================] - 0s 896us/step - loss: 0.3921 - val_loss: 0.3523\n",
      "Epoch 18/20\n",
      "363/363 [==============================] - 0s 1ms/step - loss: 0.3848 - val_loss: 0.3549\n",
      "Epoch 19/20\n",
      "363/363 [==============================] - 0s 1ms/step - loss: 0.3855 - val_loss: 0.3526\n",
      "Epoch 20/20\n",
      "363/363 [==============================] - 0s 1ms/step - loss: 0.3820 - val_loss: 0.3417\n"
     ]
    }
   ],
   "source": [
    "#モデルの訓練\n",
    "history = model.fit(X_train, y_train, epochs=20, validation_data=(X_valid, y_valid))"
   ]
  },
  {
   "cell_type": "markdown",
   "id": "f4161ab9",
   "metadata": {},
   "source": [
    "- 学習率のデフォルト値が0.01\n",
    "- 学習率が大きいと発散することがある\n",
    "- 学習率の値を変えてみてどのように値が変化するのかを見てみると、\n",
    "    - グラグラと値が変化するが、収束はしていそう"
   ]
  },
  {
   "cell_type": "code",
   "execution_count": 10,
   "id": "e2f17619",
   "metadata": {},
   "outputs": [
    {
     "data": {
      "text/plain": [
       "array([[1.1998639 ],\n",
       "       [0.61362374],\n",
       "       [2.1099825 ]], dtype=float32)"
      ]
     },
     "execution_count": 10,
     "metadata": {},
     "output_type": "execute_result"
    }
   ],
   "source": [
    "# モデルを使って予測する\n",
    "X_new = X_test[:3]\n",
    "y_pred = model.predict(X_new)\n",
    "y_pred"
   ]
  },
  {
   "cell_type": "code",
   "execution_count": null,
   "id": "8baa6420",
   "metadata": {},
   "outputs": [],
   "source": []
  },
  {
   "cell_type": "code",
   "execution_count": null,
   "id": "5fd6d2d4",
   "metadata": {},
   "outputs": [],
   "source": []
  },
  {
   "cell_type": "code",
   "execution_count": null,
   "id": "9c997032",
   "metadata": {},
   "outputs": [],
   "source": []
  },
  {
   "cell_type": "markdown",
   "id": "29b0deeb",
   "metadata": {},
   "source": [
    "# 関数型APIを使った複雑なモデルの構築"
   ]
  },
  {
   "cell_type": "code",
   "execution_count": 12,
   "id": "fdcf16c9",
   "metadata": {},
   "outputs": [],
   "source": [
    "input_ = keras.layers.Input(shape=X_train.shape[1:])\n",
    "hidden1 = keras.layers.Dense(30, activation='relu')(input_)#入力層の出力を渡している\n",
    "hidden2 = keras.layers.Dense(30, activation='relu')(hidden1)#隠れ層の出力を渡している\n",
    "concat = keras.layers.Concatenate()([input_, hidden2])\n",
    "output = keras.layers.Dense(1)(concat)\n",
    "model = keras.Model(inputs=[input_], outputs=[output])"
   ]
  },
  {
   "cell_type": "code",
   "execution_count": 14,
   "id": "5942435e",
   "metadata": {},
   "outputs": [],
   "source": []
  },
  {
   "cell_type": "code",
   "execution_count": 17,
   "id": "ab80ea8c",
   "metadata": {},
   "outputs": [],
   "source": [
    "# ワイドパスに5個の特徴量（0から4）を送り、ディープパスに6個の特徴量（2 から7）を送りたい場合\n",
    "input_A = keras.layers.Input(shape=[5], name='wide_input')\n",
    "input_B = keras.layers.Input(shape=[6], name='deep_input')\n",
    "hidden1 = keras.layers.Dense(30, activation='relu')(input_B)\n",
    "hidden2 = keras.layers.Dense(30, activation='relu')(hidden1)\n",
    "concat = keras.layers.concatenate([input_A, hidden2])\n",
    "output = keras.layers.Dense(1, name='output')(concat)\n",
    "model = keras.Model(inputs=[input_A, input_B], outputs=[output])"
   ]
  },
  {
   "cell_type": "code",
   "execution_count": 18,
   "id": "fb612977",
   "metadata": {},
   "outputs": [],
   "source": [
    "model.compile(loss='mse', optimizer=keras.optimizers.SGD(lr=1e-3))"
   ]
  },
  {
   "cell_type": "code",
   "execution_count": 19,
   "id": "abab273b",
   "metadata": {},
   "outputs": [],
   "source": [
    "X_train_A, X_train_B = X_train[:, :5], X_train[:, 2:]\n",
    "X_valid_A, X_valid_B = X_valid[:, :5], X_valid[:, 2:]\n",
    "X_test_A, X_test_B = X_test[:, :5], X_test[:, 2:]"
   ]
  },
  {
   "cell_type": "code",
   "execution_count": 23,
   "id": "c7bd90e3",
   "metadata": {},
   "outputs": [
    {
     "data": {
      "text/plain": [
       "(5160, 8)"
      ]
     },
     "execution_count": 23,
     "metadata": {},
     "output_type": "execute_result"
    }
   ],
   "source": [
    "X_train.shape\n"
   ]
  },
  {
   "cell_type": "code",
   "execution_count": 24,
   "id": "d1a46657",
   "metadata": {},
   "outputs": [
    {
     "data": {
      "text/plain": [
       "(3870, 8)"
      ]
     },
     "execution_count": 24,
     "metadata": {},
     "output_type": "execute_result"
    }
   ],
   "source": [
    "X_valid.shape\n"
   ]
  },
  {
   "cell_type": "code",
   "execution_count": 25,
   "id": "957d9a64",
   "metadata": {},
   "outputs": [
    {
     "data": {
      "text/plain": [
       "(5160, 8)"
      ]
     },
     "execution_count": 25,
     "metadata": {},
     "output_type": "execute_result"
    }
   ],
   "source": [
    "X_test.shape"
   ]
  },
  {
   "cell_type": "code",
   "execution_count": null,
   "id": "0b483c9e",
   "metadata": {},
   "outputs": [],
   "source": []
  },
  {
   "cell_type": "code",
   "execution_count": null,
   "id": "8fa21db9",
   "metadata": {},
   "outputs": [],
   "source": []
  },
  {
   "cell_type": "code",
   "execution_count": null,
   "id": "18b806e4",
   "metadata": {},
   "outputs": [],
   "source": []
  },
  {
   "cell_type": "markdown",
   "id": "238e7648",
   "metadata": {},
   "source": [
    "# サブクラス化APIを使ったダイナミックモデルの構築\n"
   ]
  },
  {
   "cell_type": "code",
   "execution_count": null,
   "id": "2e4a2e41",
   "metadata": {},
   "outputs": [],
   "source": []
  },
  {
   "cell_type": "code",
   "execution_count": null,
   "id": "dc59ed74",
   "metadata": {},
   "outputs": [],
   "source": []
  },
  {
   "cell_type": "code",
   "execution_count": null,
   "id": "7e58961c",
   "metadata": {},
   "outputs": [],
   "source": []
  }
 ],
 "metadata": {
  "kernelspec": {
   "display_name": "Python 3 (ipykernel)",
   "language": "python",
   "name": "python3"
  },
  "language_info": {
   "codemirror_mode": {
    "name": "ipython",
    "version": 3
   },
   "file_extension": ".py",
   "mimetype": "text/x-python",
   "name": "python",
   "nbconvert_exporter": "python",
   "pygments_lexer": "ipython3",
   "version": "3.9.7"
  },
  "toc": {
   "base_numbering": 1,
   "nav_menu": {},
   "number_sections": true,
   "sideBar": true,
   "skip_h1_title": false,
   "title_cell": "Table of Contents",
   "title_sidebar": "Contents",
   "toc_cell": false,
   "toc_position": {
    "height": "calc(100% - 180px)",
    "left": "10px",
    "top": "150px",
    "width": "165px"
   },
   "toc_section_display": true,
   "toc_window_display": false
  }
 },
 "nbformat": 4,
 "nbformat_minor": 5
}
