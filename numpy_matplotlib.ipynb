{
 "cells": [
  {
   "cell_type": "code",
   "execution_count": 1,
   "id": "da26ffa6",
   "metadata": {},
   "outputs": [
    {
     "name": "stdout",
     "output_type": "stream",
     "text": [
      "# packages in environment at /home/aki/anaconda3/envs/hands-on_ML:\r\n",
      "#\r\n",
      "# Name                    Version                   Build  Channel\r\n",
      "_libgcc_mutex             0.1                        main  \r\n",
      "_openmp_mutex             4.5                       1_gnu  \r\n",
      "absl-py                   0.14.1                   pypi_0    pypi\r\n",
      "argon2-cffi               20.1.0           py39h27cfd23_1  \r\n",
      "async_generator           1.10               pyhd3eb1b0_0  \r\n",
      "attrs                     21.2.0             pyhd3eb1b0_0  \r\n",
      "backcall                  0.2.0              pyhd3eb1b0_0  \r\n",
      "blas                      1.0                         mkl  \r\n",
      "bleach                    4.0.0              pyhd3eb1b0_0  \r\n",
      "ca-certificates           2021.9.30            h06a4308_1  \r\n",
      "cachetools                4.2.4                    pypi_0    pypi\r\n",
      "certifi                   2021.5.30        py39h06a4308_0  \r\n",
      "cffi                      1.14.6           py39h400218f_0  \r\n",
      "charset-normalizer        2.0.7                    pypi_0    pypi\r\n",
      "clang                     5.0                      pypi_0    pypi\r\n",
      "dbus                      1.13.18              hb2f20db_0  \r\n",
      "debugpy                   1.4.1            py39h295c915_0  \r\n",
      "decorator                 5.1.0              pyhd3eb1b0_0  \r\n",
      "defusedxml                0.7.1              pyhd3eb1b0_0  \r\n",
      "entrypoints               0.3              py39h06a4308_0  \r\n",
      "expat                     2.4.1                h2531618_2  \r\n",
      "flatbuffers               1.12                     pypi_0    pypi\r\n",
      "fontconfig                2.13.1               h6c09931_0  \r\n",
      "freetype                  2.10.4               h5ab3b9f_0  \r\n",
      "glib                      2.69.1               h5202010_0  \r\n",
      "google-auth               1.35.0                   pypi_0    pypi\r\n",
      "google-auth-oauthlib      0.4.6                    pypi_0    pypi\r\n",
      "grpcio                    1.41.0                   pypi_0    pypi\r\n",
      "gst-plugins-base          1.14.0               h8213a91_2  \r\n",
      "gstreamer                 1.14.0               h28cd5cc_2  \r\n",
      "h5py                      3.1.0                    pypi_0    pypi\r\n",
      "icu                       58.2                 he6710b0_3  \r\n",
      "importlib-metadata        4.8.1            py39h06a4308_0  \r\n",
      "importlib_metadata        4.8.1                hd3eb1b0_0  \r\n",
      "intel-openmp              2021.3.0          h06a4308_3350  \r\n",
      "ipykernel                 6.4.1            py39h06a4308_1  \r\n",
      "ipython                   7.27.0           py39hb070fc8_0  \r\n",
      "ipython_genutils          0.2.0              pyhd3eb1b0_1  \r\n",
      "ipywidgets                7.6.4              pyhd3eb1b0_0  \r\n",
      "jedi                      0.18.0           py39h06a4308_1  \r\n",
      "jinja2                    3.0.1              pyhd3eb1b0_0  \r\n",
      "jpeg                      9d                   h7f8727e_0  \r\n",
      "jsonschema                3.2.0              pyhd3eb1b0_2  \r\n",
      "jupyter                   1.0.0            py39h06a4308_7  \r\n",
      "jupyter_client            7.0.1              pyhd3eb1b0_0  \r\n",
      "jupyter_console           6.4.0              pyhd3eb1b0_0  \r\n",
      "jupyter_contrib_core      0.3.3                      py_2    conda-forge\r\n",
      "jupyter_contrib_nbextensions 0.5.1              pyhd8ed1ab_2    conda-forge\r\n",
      "jupyter_core              4.8.1            py39h06a4308_0  \r\n",
      "jupyter_highlight_selected_word 0.2.0           py39hf3d152e_1002    conda-forge\r\n",
      "jupyter_latex_envs        1.4.6           pyhd8ed1ab_1002    conda-forge\r\n",
      "jupyter_nbextensions_configurator 0.4.1            py39hf3d152e_2    conda-forge\r\n",
      "jupyterlab_pygments       0.1.2                      py_0  \r\n",
      "jupyterlab_widgets        1.0.0              pyhd3eb1b0_1  \r\n",
      "keras                     2.6.0                    pypi_0    pypi\r\n",
      "ld_impl_linux-64          2.35.1               h7274673_9  \r\n",
      "libffi                    3.3                  he6710b0_2  \r\n",
      "libgcc-ng                 9.3.0               h5101ec6_17  \r\n",
      "libgomp                   9.3.0               h5101ec6_17  \r\n",
      "libpng                    1.6.37               hbc83047_0  \r\n",
      "libsodium                 1.0.18               h7b6447c_0  \r\n",
      "libstdcxx-ng              9.3.0               hd4cf53a_17  \r\n",
      "libuuid                   1.0.3                h7f8727e_2  \r\n",
      "libxcb                    1.14                 h7b6447c_0  \r\n",
      "libxml2                   2.9.12               h03d6c58_0  \r\n",
      "libxslt                   1.1.34               hc22bd24_0  \r\n",
      "lxml                      4.6.3            py39h9120a33_0  \r\n",
      "markupsafe                2.0.1            py39h27cfd23_0  \r\n",
      "matplotlib-inline         0.1.2              pyhd3eb1b0_2  \r\n",
      "mistune                   0.8.4           py39h27cfd23_1000  \r\n",
      "mkl                       2021.3.0           h06a4308_520  \r\n",
      "mkl-service               2.4.0            py39h7f8727e_0  \r\n",
      "mkl_fft                   1.3.0            py39h42c9631_2  \r\n",
      "mkl_random                1.2.2            py39h51133e4_0  \r\n",
      "nbclient                  0.5.3              pyhd3eb1b0_0  \r\n",
      "nbconvert                 6.1.0            py39h06a4308_0  \r\n",
      "nbformat                  5.1.3              pyhd3eb1b0_0  \r\n",
      "ncurses                   6.2                  he6710b0_1  \r\n",
      "nest-asyncio              1.5.1              pyhd3eb1b0_0  \r\n",
      "notebook                  6.4.3            py39h06a4308_0  \r\n",
      "numpy                     1.20.3           py39hf144106_0  \r\n",
      "numpy-base                1.20.3           py39h74d4b33_0  \r\n",
      "openssl                   1.1.1l               h7f8727e_0  \r\n",
      "packaging                 21.0               pyhd3eb1b0_0  \r\n",
      "pandocfilters             1.4.3            py39h06a4308_1  \r\n",
      "parso                     0.8.2              pyhd3eb1b0_0  \r\n",
      "pcre                      8.45                 h295c915_0  \r\n",
      "pexpect                   4.8.0              pyhd3eb1b0_3  \r\n",
      "pickleshare               0.7.5           pyhd3eb1b0_1003  \r\n",
      "pip                       21.2.4           py39h06a4308_0  \r\n",
      "prometheus_client         0.11.0             pyhd3eb1b0_0  \r\n",
      "prompt-toolkit            3.0.20             pyhd3eb1b0_0  \r\n",
      "prompt_toolkit            3.0.20               hd3eb1b0_0  \r\n",
      "protobuf                  3.18.1                   pypi_0    pypi\r\n",
      "ptyprocess                0.7.0              pyhd3eb1b0_2  \r\n",
      "pyasn1-modules            0.2.8                    pypi_0    pypi\r\n",
      "pycparser                 2.20                       py_2  \r\n",
      "pygments                  2.10.0             pyhd3eb1b0_0  \r\n",
      "pyparsing                 2.4.7              pyhd3eb1b0_0  \r\n",
      "pyqt                      5.9.2            py39h2531618_6  \r\n",
      "pyrsistent                0.18.0           py39h7f8727e_0  \r\n",
      "python                    3.9.6                h12debd9_1  \r\n",
      "python-dateutil           2.8.2              pyhd3eb1b0_0  \r\n",
      "python_abi                3.9                      2_cp39    conda-forge\r\n",
      "pyyaml                    5.4.1            py39h27cfd23_1  \r\n",
      "pyzmq                     22.2.1           py39h295c915_1  \r\n",
      "qt                        5.9.7                h5867ecd_1  \r\n",
      "qtconsole                 5.1.1              pyhd3eb1b0_0  \r\n",
      "qtpy                      1.10.0             pyhd3eb1b0_0  \r\n",
      "readline                  8.1                  h27cfd23_0  \r\n",
      "send2trash                1.8.0              pyhd3eb1b0_1  \r\n",
      "setuptools                58.0.4           py39h06a4308_0  \r\n",
      "sip                       4.19.13          py39h2531618_0  \r\n",
      "six                       1.15.0                   pypi_0    pypi\r\n",
      "sklearn                   0.0                      pypi_0    pypi\r\n",
      "sqlite                    3.36.0               hc218d9a_0  \r\n",
      "tensorboard               2.6.0                    pypi_0    pypi\r\n",
      "tensorboard-data-server   0.6.1                    pypi_0    pypi\r\n",
      "tensorboard-plugin-wit    1.8.0                    pypi_0    pypi\r\n",
      "termcolor                 1.1.0                    pypi_0    pypi\r\n",
      "terminado                 0.9.4            py39h06a4308_0  \r\n",
      "testpath                  0.5.0              pyhd3eb1b0_0  \r\n",
      "tk                        8.6.11               h1ccaba5_0  \r\n",
      "tornado                   6.1              py39h27cfd23_0  \r\n",
      "traitlets                 5.1.0              pyhd3eb1b0_0  \r\n",
      "typing-extensions         3.7.4.3                  pypi_0    pypi\r\n",
      "tzdata                    2021a                h5d7bf9c_0  \r\n",
      "urllib3                   1.26.7                   pypi_0    pypi\r\n",
      "wcwidth                   0.2.5              pyhd3eb1b0_0  \r\n",
      "webencodings              0.5.1            py39h06a4308_1  \r\n",
      "werkzeug                  2.0.2                    pypi_0    pypi\r\n",
      "wheel                     0.37.0             pyhd3eb1b0_1  \r\n",
      "widgetsnbextension        3.5.1            py39h06a4308_0  \r\n",
      "xz                        5.2.5                h7b6447c_0  \r\n",
      "yaml                      0.2.5                h7b6447c_0  \r\n",
      "zeromq                    4.3.4                h2531618_0  \r\n",
      "zipp                      3.6.0              pyhd3eb1b0_0  \r\n",
      "zlib                      1.2.11               h7b6447c_3  \r\n"
     ]
    },
    {
     "name": "stdout",
     "output_type": "stream",
     "text": [
      "\n",
      "Note: you may need to restart the kernel to use updated packages.\n"
     ]
    }
   ],
   "source": [
    "conda list"
   ]
  },
  {
   "cell_type": "code",
   "execution_count": 2,
   "id": "a446a6db",
   "metadata": {},
   "outputs": [],
   "source": [
    "import numpy as np"
   ]
  },
  {
   "cell_type": "code",
   "execution_count": 3,
   "id": "c9bf24bf",
   "metadata": {},
   "outputs": [
    {
     "name": "stdout",
     "output_type": "stream",
     "text": [
      "[1. 2. 3.]\n"
     ]
    }
   ],
   "source": [
    "x = np.array([1.0, 2.0, 3.0])\n",
    "print(x)"
   ]
  },
  {
   "cell_type": "code",
   "execution_count": 4,
   "id": "8dc1d988",
   "metadata": {},
   "outputs": [],
   "source": [
    "x = np.array([1.0, 2.0, 3.0])\n",
    "y = np.array([2.0, 4.0 ,6.0])"
   ]
  },
  {
   "cell_type": "code",
   "execution_count": 5,
   "id": "ec9686ad",
   "metadata": {},
   "outputs": [
    {
     "data": {
      "text/plain": [
       "array([3., 6., 9.])"
      ]
     },
     "execution_count": 5,
     "metadata": {},
     "output_type": "execute_result"
    }
   ],
   "source": [
    "x + y"
   ]
  },
  {
   "cell_type": "code",
   "execution_count": 6,
   "id": "352456f6",
   "metadata": {},
   "outputs": [
    {
     "data": {
      "text/plain": [
       "array([-1., -2., -3.])"
      ]
     },
     "execution_count": 6,
     "metadata": {},
     "output_type": "execute_result"
    }
   ],
   "source": [
    "x - y"
   ]
  },
  {
   "cell_type": "code",
   "execution_count": 7,
   "id": "eb8e8b02",
   "metadata": {},
   "outputs": [
    {
     "data": {
      "text/plain": [
       "array([ 2.,  8., 18.])"
      ]
     },
     "execution_count": 7,
     "metadata": {},
     "output_type": "execute_result"
    }
   ],
   "source": [
    "x * y"
   ]
  },
  {
   "cell_type": "code",
   "execution_count": 8,
   "id": "2e35a05e",
   "metadata": {},
   "outputs": [
    {
     "data": {
      "text/plain": [
       "array([0.5, 1. , 1.5])"
      ]
     },
     "execution_count": 8,
     "metadata": {},
     "output_type": "execute_result"
    }
   ],
   "source": [
    "x / 2.0"
   ]
  },
  {
   "cell_type": "code",
   "execution_count": 9,
   "id": "11bb8974",
   "metadata": {},
   "outputs": [
    {
     "data": {
      "text/plain": [
       "array([1., 2., 3.])"
      ]
     },
     "execution_count": 9,
     "metadata": {},
     "output_type": "execute_result"
    }
   ],
   "source": [
    "y/ 2.0"
   ]
  },
  {
   "cell_type": "code",
   "execution_count": 20,
   "id": "844d4ff9",
   "metadata": {},
   "outputs": [
    {
     "data": {
      "text/plain": [
       "array([-9., -8., -7.])"
      ]
     },
     "execution_count": 20,
     "metadata": {},
     "output_type": "execute_result"
    }
   ],
   "source": [
    "x - 10"
   ]
  },
  {
   "cell_type": "code",
   "execution_count": 10,
   "id": "7e3b4743",
   "metadata": {},
   "outputs": [
    {
     "name": "stdout",
     "output_type": "stream",
     "text": [
      "[[1 2]\n",
      " [3 4]]\n"
     ]
    }
   ],
   "source": [
    "A = np.array([[1,2], [3,4]])\n",
    "print(A)"
   ]
  },
  {
   "cell_type": "code",
   "execution_count": 11,
   "id": "ebd44b8a",
   "metadata": {},
   "outputs": [
    {
     "data": {
      "text/plain": [
       "(2, 2)"
      ]
     },
     "execution_count": 11,
     "metadata": {},
     "output_type": "execute_result"
    }
   ],
   "source": [
    "A.shape"
   ]
  },
  {
   "cell_type": "code",
   "execution_count": 12,
   "id": "fcf949c0",
   "metadata": {},
   "outputs": [
    {
     "data": {
      "text/plain": [
       "dtype('int64')"
      ]
     },
     "execution_count": 12,
     "metadata": {},
     "output_type": "execute_result"
    }
   ],
   "source": [
    "A.dtype"
   ]
  },
  {
   "cell_type": "code",
   "execution_count": 13,
   "id": "17e0f042",
   "metadata": {},
   "outputs": [
    {
     "data": {
      "text/plain": [
       "array([[ 4,  2],\n",
       "       [ 3, 10]])"
      ]
     },
     "execution_count": 13,
     "metadata": {},
     "output_type": "execute_result"
    }
   ],
   "source": [
    "B = np.array([[3,0], [0,6]])\n",
    "A + B"
   ]
  },
  {
   "cell_type": "code",
   "execution_count": 14,
   "id": "417b8c3b",
   "metadata": {},
   "outputs": [
    {
     "data": {
      "text/plain": [
       "array([[ 3,  0],\n",
       "       [ 0, 24]])"
      ]
     },
     "execution_count": 14,
     "metadata": {},
     "output_type": "execute_result"
    }
   ],
   "source": [
    "A * B"
   ]
  },
  {
   "cell_type": "code",
   "execution_count": null,
   "id": "898dddac",
   "metadata": {},
   "outputs": [],
   "source": []
  },
  {
   "cell_type": "code",
   "execution_count": 15,
   "id": "3499f0da",
   "metadata": {},
   "outputs": [],
   "source": [
    "A = np.array([[1,2], [3,4]])\n",
    "B = np.array([10,20])"
   ]
  },
  {
   "cell_type": "code",
   "execution_count": 16,
   "id": "871f1e11",
   "metadata": {},
   "outputs": [
    {
     "data": {
      "text/plain": [
       "array([[1, 2],\n",
       "       [3, 4]])"
      ]
     },
     "execution_count": 16,
     "metadata": {},
     "output_type": "execute_result"
    }
   ],
   "source": [
    "A"
   ]
  },
  {
   "cell_type": "code",
   "execution_count": 17,
   "id": "980c82e4",
   "metadata": {},
   "outputs": [
    {
     "data": {
      "text/plain": [
       "array([10, 20])"
      ]
     },
     "execution_count": 17,
     "metadata": {},
     "output_type": "execute_result"
    }
   ],
   "source": [
    "B"
   ]
  },
  {
   "cell_type": "code",
   "execution_count": 18,
   "id": "9fdaf3b3",
   "metadata": {},
   "outputs": [
    {
     "data": {
      "text/plain": [
       "array([[10, 40],\n",
       "       [30, 80]])"
      ]
     },
     "execution_count": 18,
     "metadata": {},
     "output_type": "execute_result"
    }
   ],
   "source": [
    "A * B"
   ]
  },
  {
   "cell_type": "markdown",
   "id": "abc8c413",
   "metadata": {},
   "source": [
    "形状の異なる配列同士の演算が出来る → numpyのブロードキャスト機能"
   ]
  },
  {
   "cell_type": "code",
   "execution_count": null,
   "id": "02049c06",
   "metadata": {},
   "outputs": [],
   "source": []
  },
  {
   "cell_type": "markdown",
   "id": "1f688dd4",
   "metadata": {},
   "source": [
    "要素へのアクセス"
   ]
  },
  {
   "cell_type": "code",
   "execution_count": 22,
   "id": "17f83919",
   "metadata": {},
   "outputs": [
    {
     "name": "stdout",
     "output_type": "stream",
     "text": [
      "[[51 55]\n",
      " [13 76]\n",
      " [32 98]]\n"
     ]
    }
   ],
   "source": [
    "X = np.array([[51, 55], [13, 76], [32, 98]])\n",
    "print(X)"
   ]
  },
  {
   "cell_type": "code",
   "execution_count": 23,
   "id": "91ff939c",
   "metadata": {},
   "outputs": [
    {
     "data": {
      "text/plain": [
       "array([51, 55])"
      ]
     },
     "execution_count": 23,
     "metadata": {},
     "output_type": "execute_result"
    }
   ],
   "source": [
    "X[0]"
   ]
  },
  {
   "cell_type": "code",
   "execution_count": 24,
   "id": "416bbcc5",
   "metadata": {},
   "outputs": [
    {
     "data": {
      "text/plain": [
       "55"
      ]
     },
     "execution_count": 24,
     "metadata": {},
     "output_type": "execute_result"
    }
   ],
   "source": [
    "X[0][1]"
   ]
  },
  {
   "cell_type": "code",
   "execution_count": 25,
   "id": "6d4fadd6",
   "metadata": {},
   "outputs": [
    {
     "data": {
      "text/plain": [
       "32"
      ]
     },
     "execution_count": 25,
     "metadata": {},
     "output_type": "execute_result"
    }
   ],
   "source": [
    "X[2][0]"
   ]
  },
  {
   "cell_type": "code",
   "execution_count": 28,
   "id": "d875a7f8",
   "metadata": {},
   "outputs": [
    {
     "name": "stdout",
     "output_type": "stream",
     "text": [
      "[51 55]\n",
      "[13 76]\n",
      "[32 98]\n"
     ]
    }
   ],
   "source": [
    "# for文で要素一つずつ取得できる\n",
    "for row in X:\n",
    "    print(row)"
   ]
  },
  {
   "cell_type": "code",
   "execution_count": null,
   "id": "68d0ffa5",
   "metadata": {},
   "outputs": [],
   "source": []
  }
 ],
 "metadata": {
  "kernelspec": {
   "display_name": "Python 3 (ipykernel)",
   "language": "python",
   "name": "python3"
  },
  "language_info": {
   "codemirror_mode": {
    "name": "ipython",
    "version": 3
   },
   "file_extension": ".py",
   "mimetype": "text/x-python",
   "name": "python",
   "nbconvert_exporter": "python",
   "pygments_lexer": "ipython3",
   "version": "3.9.6"
  }
 },
 "nbformat": 4,
 "nbformat_minor": 5
}
