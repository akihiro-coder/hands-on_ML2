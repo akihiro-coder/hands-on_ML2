{
 "cells": [
  {
   "cell_type": "markdown",
   "id": "2fc54c51",
   "metadata": {},
   "source": [
    "# MNIST"
   ]
  },
  {
   "cell_type": "code",
   "execution_count": 1,
   "id": "f383d371",
   "metadata": {},
   "outputs": [
    {
     "data": {
      "text/plain": [
       "dict_keys(['data', 'target', 'frame', 'categories', 'feature_names', 'target_names', 'DESCR', 'details', 'url'])"
      ]
     },
     "execution_count": 1,
     "metadata": {},
     "output_type": "execute_result"
    }
   ],
   "source": [
    "from sklearn.datasets import fetch_openml\n",
    "mnist = fetch_openml('mnist_784', version=1, as_frame=False)\n",
    "mnist.keys()"
   ]
  },
  {
   "cell_type": "code",
   "execution_count": 2,
   "id": "ce62162e",
   "metadata": {},
   "outputs": [],
   "source": [
    "X, y = mnist['data'], mnist['target']"
   ]
  },
  {
   "cell_type": "code",
   "execution_count": 3,
   "id": "32771e35",
   "metadata": {},
   "outputs": [
    {
     "data": {
      "text/plain": [
       "(70000, 784)"
      ]
     },
     "execution_count": 3,
     "metadata": {},
     "output_type": "execute_result"
    }
   ],
   "source": [
    "X.shape"
   ]
  },
  {
   "cell_type": "code",
   "execution_count": 4,
   "id": "0bc1a728",
   "metadata": {},
   "outputs": [
    {
     "data": {
      "text/plain": [
       "(70000,)"
      ]
     },
     "execution_count": 4,
     "metadata": {},
     "output_type": "execute_result"
    }
   ],
   "source": [
    "y.shape "
   ]
  },
  {
   "cell_type": "code",
   "execution_count": 5,
   "id": "c8693bf1",
   "metadata": {},
   "outputs": [],
   "source": [
    "import numpy as np\n",
    "import matplotlib as mpl \n",
    "import matplotlib.pyplot as plt\n"
   ]
  },
  {
   "cell_type": "markdown",
   "id": "fc6607e6",
   "metadata": {},
   "source": [
    "## 数字画像を取り出す"
   ]
  },
  {
   "cell_type": "code",
   "execution_count": 6,
   "id": "e6d41157",
   "metadata": {},
   "outputs": [
    {
     "data": {
      "image/png": "[encoded data removed]",
      "text/plain": [
       "<Figure size 432x288 with 1 Axes>"
      ]
     },
     "metadata": {
      "needs_background": "light"
     },
     "output_type": "display_data"
    }
   ],
   "source": [
    "some_digit = X[0]\n",
    "some_digit_image = some_digit.reshape(28, 28)\n",
    "\n",
    "plt.imshow(some_digit_image, cmap='binary')\n",
    "plt.axis('off')\n",
    "plt.show()"
   ]
  },
  {
   "cell_type": "code",
   "execution_count": 7,
   "id": "91896991",
   "metadata": {},
   "outputs": [
    {
     "data": {
      "text/plain": [
       "'5'"
      ]
     },
     "execution_count": 7,
     "metadata": {},
     "output_type": "execute_result"
    }
   ],
   "source": [
    "y[0]"
   ]
  },
  {
   "cell_type": "code",
   "execution_count": 8,
   "id": "40408b25",
   "metadata": {},
   "outputs": [
    {
     "data": {
      "text/plain": [
       "str"
      ]
     },
     "execution_count": 8,
     "metadata": {},
     "output_type": "execute_result"
    }
   ],
   "source": [
    "type(y[0]) # 文字列は扱いにくい → 殆どのMLアルゴリズムでは数値を受け付けない → yの型を整数にキャストする必要がある"
   ]
  },
  {
   "cell_type": "code",
   "execution_count": 9,
   "id": "5ded236b",
   "metadata": {},
   "outputs": [],
   "source": [
    "y = y.astype(np.uint8)"
   ]
  },
  {
   "cell_type": "code",
   "execution_count": 10,
   "id": "516a506a",
   "metadata": {},
   "outputs": [
    {
     "data": {
      "text/plain": [
       "numpy.uint8"
      ]
     },
     "execution_count": 10,
     "metadata": {},
     "output_type": "execute_result"
    }
   ],
   "source": [
    "type(y[0])"
   ]
  },
  {
   "cell_type": "code",
   "execution_count": 11,
   "id": "1a6eab70",
   "metadata": {},
   "outputs": [
    {
     "data": {
      "text/plain": [
       "5"
      ]
     },
     "execution_count": 11,
     "metadata": {},
     "output_type": "execute_result"
    }
   ],
   "source": [
    "y[0]"
   ]
  },
  {
   "cell_type": "code",
   "execution_count": 12,
   "id": "dcb32e17",
   "metadata": {},
   "outputs": [],
   "source": [
    "# 訓練データとテストデータにすでに別れているため、とりあえず変数に格納\n",
    "# 訓練データはすでにシャッフル済み、交差検証のフォールドで同じ様なものになるため好都合\n",
    "\n",
    "X_train, X_test, y_train, y_test = X[ : 60000], X[60000 : ], y[ : 60000], y[60000 : ]"
   ]
  },
  {
   "cell_type": "markdown",
   "id": "c51a0fc6",
   "metadata": {},
   "source": [
    "# 二項分類器の訓練"
   ]
  },
  {
   "cell_type": "markdown",
   "id": "aec13d96",
   "metadata": {},
   "source": [
    "## 5と5以外に分類するモデルを作成"
   ]
  },
  {
   "cell_type": "code",
   "execution_count": 13,
   "id": "5e7a962d",
   "metadata": {},
   "outputs": [],
   "source": [
    "# ターゲットベクトルを作成、5であればTrue\n",
    "y_train_5 = (y_train == 5)\n",
    "y_test_5 = (y_test == 5)"
   ]
  },
  {
   "cell_type": "code",
   "execution_count": 14,
   "id": "a4aaadc8",
   "metadata": {},
   "outputs": [
    {
     "data": {
      "text/plain": [
       "SGDClassifier(random_state=42)"
      ]
     },
     "execution_count": 14,
     "metadata": {},
     "output_type": "execute_result"
    }
   ],
   "source": [
    "from sklearn.linear_model import SGDClassifier #モデルのインポート（確率的勾配降下法の分類器）\n",
    "\n",
    "sgd_clf = SGDClassifier(random_state=42) # インスタンス作成\n",
    "sgd_clf.fit(X_train, y_train_5) # モデル作成"
   ]
  },
  {
   "cell_type": "code",
   "execution_count": 15,
   "id": "9be45b79",
   "metadata": {},
   "outputs": [
    {
     "data": {
      "text/plain": [
       "array([ True])"
      ]
     },
     "execution_count": 15,
     "metadata": {},
     "output_type": "execute_result"
    }
   ],
   "source": [
    "sgd_clf.predict([some_digit]) \n",
    "# この分類器が5の画像を5と特定した → 実際にどれほどの予測精度があるのか測ってみる"
   ]
  },
  {
   "cell_type": "markdown",
   "id": "5b9f7dc2",
   "metadata": {},
   "source": [
    "# 性能指標\n",
    "- 分類器の評価は回帰器よりも遥かに難しい\n",
    "- 使われる性能指標は非常に多い\n",
    "## 交差検証を使った正解率の測定"
   ]
  },
  {
   "cell_type": "code",
   "execution_count": 16,
   "id": "8070799c",
   "metadata": {},
   "outputs": [
    {
     "data": {
      "text/plain": [
       "array([0.95035, 0.96035, 0.9604 ])"
      ]
     },
     "execution_count": 16,
     "metadata": {},
     "output_type": "execute_result"
    }
   ],
   "source": [
    "from sklearn.model_selection import cross_val_score\n",
    "cross_val_score(sgd_clf, X_train, y_train_5, cv=3, scoring='accuracy')"
   ]
  },
  {
   "cell_type": "code",
   "execution_count": 17,
   "id": "e337ca0f",
   "metadata": {},
   "outputs": [
    {
     "name": "stdout",
     "output_type": "stream",
     "text": [
      "0.9669\n",
      "0.91625\n",
      "0.96785\n"
     ]
    }
   ],
   "source": [
    "# cross_val_score関数みたいなものを自分で実装してみる\n",
    "\n",
    "from sklearn.model_selection import StratifiedKFold\n",
    "from sklearn.base import clone \n",
    "\n",
    "#インスタンス生成\n",
    "skfolds = StratifiedKFold(n_splits = 3, shuffle=True, random_state=42)\n",
    "\n",
    "for train_index, test_index in skfolds.split(X_train, y_train_5):\n",
    "    # モデルのクローン作成\n",
    "    clone_clf = clone(sgd_clf)\n",
    "    # 分割した訓練データ\n",
    "    X_train_folds = X_train[train_index]\n",
    "    y_train_folds = y_train_5[train_index]\n",
    "    # 分割したテストデータ\n",
    "    X_test_fold = X_train[test_index]\n",
    "    y_test_fold = y_train_5[test_index] \n",
    "    # モデル作成\n",
    "    clone_clf.fit(X_train_folds, y_train_folds)\n",
    "    # 性能予測\n",
    "    y_pred = clone_clf.predict(X_test_fold)\n",
    "    n_correct = sum(y_pred == y_test_fold) # モデルが正しく画像認識した数の合計\n",
    "    print(n_correct / len(y_pred))"
   ]
  },
  {
   "cell_type": "markdown",
   "id": "de9e8639",
   "metadata": {},
   "source": [
    "## すべての画像を「5以外」クラスに分類するダム分類器の結果を見てみる"
   ]
  },
  {
   "cell_type": "code",
   "execution_count": 18,
   "id": "885bd324",
   "metadata": {},
   "outputs": [],
   "source": [
    "from sklearn.base import BaseEstimator\n",
    "class Never5Classifier(BaseEstimator):\n",
    "    def fit(self, X, y=None):\n",
    "        pass\n",
    "    def predict(self, X):\n",
    "        return np.zeros((len(X), 1), dtype=bool)"
   ]
  },
  {
   "cell_type": "code",
   "execution_count": 19,
   "id": "5fd33080",
   "metadata": {},
   "outputs": [
    {
     "data": {
      "text/plain": [
       "array([0.91125, 0.90855, 0.90915])"
      ]
     },
     "execution_count": 19,
     "metadata": {},
     "output_type": "execute_result"
    }
   ],
   "source": [
    "never_5_clf = Never5Classifier() # インスタンス生成\n",
    "cross_val_score(never_5_clf, X_train, y_train_5, cv = 3, scoring='accuracy')"
   ]
  },
  {
   "cell_type": "markdown",
   "id": "a296baad",
   "metadata": {},
   "source": [
    "- この結果は、90%以上の正解率を示しているが、これは画像の約10%が5であるからに過ぎないためである。\n",
    "- 故に、いつも５でないと予測していれば、約90%の正答率で当たるということだ。\n",
    "- 今回は5と5以外が1:9の比で並んでいる\n",
    "- このような歪んだデータセットの場合、正解率はモデルの性能指標として適当ではない\n",
    "- 一般的に分類器の性能指標として正解率が好まれない"
   ]
  },
  {
   "cell_type": "markdown",
   "id": "fa774df2",
   "metadata": {},
   "source": [
    "## 混同行列\n",
    "- (a,b): aの画像をbと混同した回数\n",
    "- (n,n)大　→　性能高\n",
    "- テストセットは本番稼働に回せる分類器が完成しているプロジェクトの最後の段階だけで使う\n",
    "- 混同行列を計算する方法として、実際のターゲットと比較できる「予測の集合」が必要になる\n",
    "- テストセットを使い予測してもいいが、上記の事情により、テストセットは使えない。"
   ]
  },
  {
   "cell_type": "code",
   "execution_count": 20,
   "id": "5e4f9dc9",
   "metadata": {},
   "outputs": [],
   "source": [
    "from sklearn.model_selection import cross_val_predict\n",
    "y_train_pred = cross_val_predict(sgd_clf, X_train, y_train_5, cv=3)\n",
    "# sgd_clf：分類器モデル（SGDClassifier）\n",
    "# cross_val_predict: 個々のテストフォールドに対する予測結果を返す"
   ]
  },
  {
   "cell_type": "markdown",
   "id": "cc202e4d",
   "metadata": {},
   "source": [
    "- cross_val_score→結果からスコアを返す　→　モデルが正しく画像認識した数をモデルが予測した数で割る\n",
    "- cross_val_predict→個々のテストセット（検証セット？）を入力した時の予測結果そのものを返す"
   ]
  },
  {
   "cell_type": "code",
   "execution_count": 21,
   "id": "db350297",
   "metadata": {},
   "outputs": [
    {
     "data": {
      "text/plain": [
       "array([[53892,   687],\n",
       "       [ 1891,  3530]])"
      ]
     },
     "execution_count": 21,
     "metadata": {},
     "output_type": "execute_result"
    }
   ],
   "source": [
    "from sklearn.metrics import confusion_matrix\n",
    "confusion_matrix(y_train_5, y_train_pred)\n",
    "# y_train_5：ラベルの集合\n",
    "# y_train_pred: 予測の集合"
   ]
  },
  {
   "cell_type": "code",
   "execution_count": 23,
   "id": "f3c09bc7",
   "metadata": {},
   "outputs": [
    {
     "data": {
      "text/plain": [
       "array([[54579,     0],\n",
       "       [    0,  5421]])"
      ]
     },
     "execution_count": 23,
     "metadata": {},
     "output_type": "execute_result"
    }
   ],
   "source": [
    "#仮に予測がすべて正しかった場合の混同行列の振る舞い\n",
    "y_train_perfection_prediction = y_train_5  \n",
    "confusion_matrix(y_train_5, y_train_perfection_prediction)"
   ]
  },
  {
   "cell_type": "markdown",
   "id": "36e2b8f7",
   "metadata": {},
   "source": [
    "## 適合率と再現率とF1値"
   ]
  },
  {
   "cell_type": "code",
   "execution_count": 28,
   "id": "c91b6c2e",
   "metadata": {},
   "outputs": [],
   "source": [
    "from sklearn.metrics import precision_score, recall_score"
   ]
  },
  {
   "cell_type": "code",
   "execution_count": 29,
   "id": "2902c545",
   "metadata": {},
   "outputs": [
    {
     "data": {
      "text/plain": [
       "0.8370879772350012"
      ]
     },
     "execution_count": 29,
     "metadata": {},
     "output_type": "execute_result"
    }
   ],
   "source": [
    "precision_score(y_train_5, y_train_pred)"
   ]
  },
  {
   "cell_type": "code",
   "execution_count": 30,
   "id": "9191a37c",
   "metadata": {},
   "outputs": [
    {
     "data": {
      "text/plain": [
       "0.6511713705958311"
      ]
     },
     "execution_count": 30,
     "metadata": {},
     "output_type": "execute_result"
    }
   ],
   "source": [
    "recall_score(y_train_5, y_train_pred)"
   ]
  },
  {
   "cell_type": "code",
   "execution_count": 31,
   "id": "85f2ec45",
   "metadata": {},
   "outputs": [],
   "source": [
    "from sklearn.metrics import f1_score"
   ]
  },
  {
   "cell_type": "code",
   "execution_count": 32,
   "id": "b4396f49",
   "metadata": {},
   "outputs": [
    {
     "data": {
      "text/plain": [
       "0.7325171197343846"
      ]
     },
     "execution_count": 32,
     "metadata": {},
     "output_type": "execute_result"
    }
   ],
   "source": [
    "f1_score(y_train_5, y_train_pred)"
   ]
  },
  {
   "cell_type": "markdown",
   "id": "d8ddc96c",
   "metadata": {},
   "source": [
    "### どの数値を評価指標として重視するべきか\n",
    "- 子供に見せてはいけないビデオを検出するモデル\n",
    "    - 実際に、多くの良いビデオを排除してしまっても、確実に安全なビデオだけを検出するモデルが好まれる\n",
    "    - 言い換えると、適合率を高くして再現率を低くするのだ\n",
    "- 監視カメラから万引き犯を見つけるモデル\n",
    "    - 万引き犯であるのに万引き犯でないと予測してしまうケースを極力減らしたい\n",
    "    - 言い換えると、再現率を高くして適合率を低くするのだ\n",
    "- 再現率と適合率はトレードオフな関係のため、実際に両方とも値を高くすることは出来ないことは忘れてはならない"
   ]
  },
  {
   "cell_type": "code",
   "execution_count": null,
   "id": "834ce233",
   "metadata": {},
   "outputs": [],
   "source": []
  }
 ],
 "metadata": {
  "kernelspec": {
   "display_name": "hands-on_ML",
   "language": "python",
   "name": "hands-on_ml"
  },
  "language_info": {
   "codemirror_mode": {
    "name": "ipython",
    "version": 3
   },
   "file_extension": ".py",
   "mimetype": "text/x-python",
   "name": "python",
   "nbconvert_exporter": "python",
   "pygments_lexer": "ipython3",
   "version": "3.9.7"
  },
  "toc": {
   "base_numbering": 1,
   "nav_menu": {},
   "number_sections": true,
   "sideBar": true,
   "skip_h1_title": false,
   "title_cell": "Table of Contents",
   "title_sidebar": "Contents",
   "toc_cell": false,
   "toc_position": {},
   "toc_section_display": true,
   "toc_window_display": true
  }
 },
 "nbformat": 4,
 "nbformat_minor": 5
}
