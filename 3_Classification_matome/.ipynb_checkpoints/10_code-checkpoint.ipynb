{
 "cells": [
  {
   "cell_type": "markdown",
   "id": "967b821d",
   "metadata": {},
   "source": []
  },
  {
   "cell_type": "code",
   "execution_count": 1,
   "id": "c8cf9f8d",
   "metadata": {},
   "outputs": [
    {
     "data": {
      "text/plain": [
       "array([0])"
      ]
     },
     "execution_count": 1,
     "metadata": {},
     "output_type": "execute_result"
    }
   ],
   "source": [
    "import numpy as np \n",
    "from sklearn.datasets import load_iris\n",
    "from sklearn.linear_model import Perceptron\n",
    "\n",
    "iris = load_iris()\n",
    "X = iris.data[:, (2,3)]\n",
    "y = (iris.target == 0).astype(np.int)\n",
    "\n",
    "per_clf = Perceptron()\n",
    "per_clf.fit(X, y)\n",
    "\n",
    "y_pred = per_clf.predict([[2, 0.5]])\n",
    "y_pred"
   ]
  },
  {
   "cell_type": "code",
   "execution_count": null,
   "id": "31239a64",
   "metadata": {},
   "outputs": [],
   "source": []
  },
  {
   "cell_type": "markdown",
   "id": "ad85e996",
   "metadata": {},
   "source": [
    "#  シーケンシャルAPIを使った画像分類器の構築"
   ]
  },
  {
   "cell_type": "markdown",
   "id": "8ab1c8e6",
   "metadata": {},
   "source": [
    "## Kerasを使ったデータセットのロード"
   ]
  },
  {
   "cell_type": "code",
   "execution_count": 2,
   "id": "369b8208",
   "metadata": {},
   "outputs": [
    {
     "name": "stderr",
     "output_type": "stream",
     "text": [
      "2021-10-08 11:54:14.839114: W tensorflow/stream_executor/platform/default/dso_loader.cc:64] Could not load dynamic library 'libcudart.so.11.0'; dlerror: libcudart.so.11.0: cannot open shared object file: No such file or directory\n",
      "2021-10-08 11:54:14.839211: I tensorflow/stream_executor/cuda/cudart_stub.cc:29] Ignore above cudart dlerror if you do not have a GPU set up on your machine.\n"
     ]
    }
   ],
   "source": [
    "import tensorflow as tf\n",
    "from tensorflow import keras \n"
   ]
  },
  {
   "cell_type": "code",
   "execution_count": 3,
   "id": "6d87913c",
   "metadata": {},
   "outputs": [],
   "source": [
    "fashion_mnist = keras.datasets.fashion_mnist\n",
    "(X_train_full, y_train_full), (X_test, y_test) = fashion_mnist.load_data()"
   ]
  },
  {
   "cell_type": "code",
   "execution_count": 4,
   "id": "82f1c7d5",
   "metadata": {},
   "outputs": [
    {
     "data": {
      "text/plain": [
       "(60000, 28, 28)"
      ]
     },
     "execution_count": 4,
     "metadata": {},
     "output_type": "execute_result"
    }
   ],
   "source": [
    "X_train_full.shape"
   ]
  },
  {
   "cell_type": "code",
   "execution_count": 5,
   "id": "5ab9049f",
   "metadata": {},
   "outputs": [
    {
     "data": {
      "text/plain": [
       "dtype('uint8')"
      ]
     },
     "execution_count": 5,
     "metadata": {},
     "output_type": "execute_result"
    }
   ],
   "source": [
    "X_train_full.dtype"
   ]
  },
  {
   "cell_type": "markdown",
   "id": "552affc6",
   "metadata": {},
   "source": [
    "- 検証セットをプラスで作らないといけない\n",
    "- 勾配降下法を使ってニューラルネットワークを訓練しようとしているため、入力特徴量をスケーリングしなければならない\n",
    "    - [標準化と正規化](https://aiacademy.jp/texts/show/?id=555)\n",
    "- ピクセルの明度を255.0 で割って（同時に浮動小数点数への変換も行われる）、ピクセルの明度を0から1 の範囲で表現することにする"
   ]
  },
  {
   "cell_type": "code",
   "execution_count": 6,
   "id": "d6a598a7",
   "metadata": {},
   "outputs": [],
   "source": [
    "X_valid, X_train = X_train_full[:5000] / 255.0, X_train_full[5000:] / 255.0\n",
    "y_valid, y_train = y_train_full[:5000], y_train_full[5000:]"
   ]
  },
  {
   "cell_type": "code",
   "execution_count": 7,
   "id": "5327e383",
   "metadata": {},
   "outputs": [],
   "source": [
    "# クラスに与えられている数字を元に順番に何を表しているのかをリスト化\n",
    "class_name = ['T-shirt/top', 'Trouser', 'Pullover', 'Dress', 'Coat', 'Sandal', 'Shirt', 'Sneaker', 'Bag',  'Ankle boot']"
   ]
  },
  {
   "cell_type": "code",
   "execution_count": 8,
   "id": "5e541e40",
   "metadata": {},
   "outputs": [
    {
     "data": {
      "text/plain": [
       "4"
      ]
     },
     "execution_count": 8,
     "metadata": {},
     "output_type": "execute_result"
    }
   ],
   "source": [
    "y_train[0]"
   ]
  },
  {
   "cell_type": "code",
   "execution_count": 9,
   "id": "b5a8a666",
   "metadata": {},
   "outputs": [
    {
     "data": {
      "text/plain": [
       "'Coat'"
      ]
     },
     "execution_count": 9,
     "metadata": {},
     "output_type": "execute_result"
    }
   ],
   "source": [
    "class_name[y_train[0]]"
   ]
  },
  {
   "cell_type": "markdown",
   "id": "24dfe91c",
   "metadata": {},
   "source": [
    "## シーケンシャルAPIを使ったモデルの作成"
   ]
  },
  {
   "cell_type": "code",
   "execution_count": 10,
   "id": "84093c58",
   "metadata": {},
   "outputs": [
    {
     "name": "stderr",
     "output_type": "stream",
     "text": [
      "2021-10-08 11:54:17.343044: W tensorflow/stream_executor/platform/default/dso_loader.cc:64] Could not load dynamic library 'libcuda.so.1'; dlerror: libcuda.so.1: cannot open shared object file: No such file or directory\n",
      "2021-10-08 11:54:17.343184: W tensorflow/stream_executor/cuda/cuda_driver.cc:269] failed call to cuInit: UNKNOWN ERROR (303)\n",
      "2021-10-08 11:54:17.343222: I tensorflow/stream_executor/cuda/cuda_diagnostics.cc:156] kernel driver does not appear to be running on this host (LAPTOP-7G8THKRV): /proc/driver/nvidia/version does not exist\n",
      "2021-10-08 11:54:17.343731: I tensorflow/core/platform/cpu_feature_guard.cc:142] This TensorFlow binary is optimized with oneAPI Deep Neural Network Library (oneDNN) to use the following CPU instructions in performance-critical operations:  AVX2 FMA\n",
      "To enable them in other operations, rebuild TensorFlow with the appropriate compiler flags.\n"
     ]
    }
   ],
   "source": [
    "# ニューラルネットワークを作る\n",
    "#２個の隠れ層を持つ分類MLP\n",
    "model = keras.models.Sequential() # インスタンス作成 , Sequentialモデル（Kerasのニューラルネットワークモデルで最も単純なもの)を作る\n",
    "model.add(keras.layers.Flatten(input_shape=[28,28])) # Flatten：個々の入力画像を一次元配列に変換。\n",
    "#個々のDense層は、専用の重み行列と、バイアス行のベクトルを管理している\n",
    "model.add(keras.layers.Dense(300, activation='relu')) \n",
    "model.add(keras.layers.Dense(100, activation='relu'))\n",
    "# 出力層 クラスごとに一個、合計10個のニューロンを持つ\n",
    "model.add(keras.layers.Dense(10, activation='softmax'))"
   ]
  },
  {
   "cell_type": "code",
   "execution_count": 11,
   "id": "06e4b77e",
   "metadata": {},
   "outputs": [
    {
     "name": "stdout",
     "output_type": "stream",
     "text": [
      "Model: \"sequential\"\n",
      "_________________________________________________________________\n",
      "Layer (type)                 Output Shape              Param #   \n",
      "=================================================================\n",
      "flatten (Flatten)            (None, 784)               0         \n",
      "_________________________________________________________________\n",
      "dense (Dense)                (None, 300)               235500    \n",
      "_________________________________________________________________\n",
      "dense_1 (Dense)              (None, 100)               30100     \n",
      "_________________________________________________________________\n",
      "dense_2 (Dense)              (None, 10)                1010      \n",
      "=================================================================\n",
      "Total params: 266,610\n",
      "Trainable params: 266,610\n",
      "Non-trainable params: 0\n",
      "_________________________________________________________________\n"
     ]
    }
   ],
   "source": [
    "model.summary()\n",
    "#、第1 の隠れ層は784 × 300 の接続重みと300 個のバイアス項を持つため、235,500 個ものパラメータを持つことになる"
   ]
  },
  {
   "cell_type": "code",
   "execution_count": 12,
   "id": "77c8cf99",
   "metadata": {},
   "outputs": [
    {
     "data": {
      "text/plain": [
       "[<keras.layers.core.Flatten at 0x7f46c990d6a0>,\n",
       " <keras.layers.core.Dense at 0x7f46c990d730>,\n",
       " <keras.layers.core.Dense at 0x7f46ac537250>,\n",
       " <keras.layers.core.Dense at 0x7f46ac537c10>]"
      ]
     },
     "execution_count": 12,
     "metadata": {},
     "output_type": "execute_result"
    }
   ],
   "source": [
    "model.layers"
   ]
  },
  {
   "cell_type": "code",
   "execution_count": 13,
   "id": "a19bb442",
   "metadata": {},
   "outputs": [
    {
     "data": {
      "text/plain": [
       "'dense'"
      ]
     },
     "execution_count": 13,
     "metadata": {},
     "output_type": "execute_result"
    }
   ],
   "source": [
    "hidden1 = model.layers[1]\n",
    "hidden1.name"
   ]
  },
  {
   "cell_type": "code",
   "execution_count": 14,
   "id": "c6040e5f",
   "metadata": {},
   "outputs": [
    {
     "data": {
      "text/plain": [
       "'flatten'"
      ]
     },
     "execution_count": 14,
     "metadata": {},
     "output_type": "execute_result"
    }
   ],
   "source": [
    "hidden0 = model.layers[0]\n",
    "hidden0.name"
   ]
  },
  {
   "cell_type": "code",
   "execution_count": 15,
   "id": "49697372",
   "metadata": {},
   "outputs": [
    {
     "data": {
      "text/plain": [
       "True"
      ]
     },
     "execution_count": 15,
     "metadata": {},
     "output_type": "execute_result"
    }
   ],
   "source": [
    "model.get_layer('dense') is hidden1"
   ]
  },
  {
   "cell_type": "code",
   "execution_count": 16,
   "id": "dea6ee14",
   "metadata": {},
   "outputs": [
    {
     "data": {
      "text/plain": [
       "array([[-0.03503333,  0.03434449, -0.00011031, ...,  0.05590144,\n",
       "         0.05086181,  0.008375  ],\n",
       "       [ 0.0608656 ,  0.06668837,  0.07155606, ..., -0.00318774,\n",
       "         0.06843773, -0.00822467],\n",
       "       [ 0.04488169,  0.00231133, -0.01540391, ...,  0.06346686,\n",
       "        -0.04255006,  0.02781624],\n",
       "       ...,\n",
       "       [-0.0669869 ,  0.01116537, -0.02975021, ...,  0.06775762,\n",
       "         0.00418505, -0.034407  ],\n",
       "       [ 0.03175152, -0.00445167, -0.04850134, ...,  0.02242772,\n",
       "        -0.04880716,  0.00433754],\n",
       "       [-0.03829704, -0.02563503,  0.00562105, ..., -0.05738737,\n",
       "        -0.04460742, -0.05069234]], dtype=float32)"
      ]
     },
     "execution_count": 16,
     "metadata": {},
     "output_type": "execute_result"
    }
   ],
   "source": [
    "# 層のget_weights()、set_weights() メソッドを使えば、層のすべてのパラメータを読み書きできる。\n",
    "# Dense層の場合、パラメータは接続重みとバイアス項の両方である。\n",
    "weights, biases = hidden1.get_weights()\n",
    "weights"
   ]
  },
  {
   "cell_type": "markdown",
   "id": "9b55d070",
   "metadata": {},
   "source": [
    "- Dense層が接続重みを無作為に初期化している\n",
    "- kernel_initializerで異なる初期化値を与えることが出来る"
   ]
  },
  {
   "cell_type": "code",
   "execution_count": 17,
   "id": "aab116aa",
   "metadata": {},
   "outputs": [
    {
     "data": {
      "text/plain": [
       "(784, 300)"
      ]
     },
     "execution_count": 17,
     "metadata": {},
     "output_type": "execute_result"
    }
   ],
   "source": [
    "weights.shape"
   ]
  },
  {
   "cell_type": "code",
   "execution_count": 18,
   "id": "7f365c2b",
   "metadata": {},
   "outputs": [
    {
     "data": {
      "text/plain": [
       "array([0., 0., 0., 0., 0., 0., 0., 0., 0., 0., 0., 0., 0., 0., 0., 0., 0.,\n",
       "       0., 0., 0., 0., 0., 0., 0., 0., 0., 0., 0., 0., 0., 0., 0., 0., 0.,\n",
       "       0., 0., 0., 0., 0., 0., 0., 0., 0., 0., 0., 0., 0., 0., 0., 0., 0.,\n",
       "       0., 0., 0., 0., 0., 0., 0., 0., 0., 0., 0., 0., 0., 0., 0., 0., 0.,\n",
       "       0., 0., 0., 0., 0., 0., 0., 0., 0., 0., 0., 0., 0., 0., 0., 0., 0.,\n",
       "       0., 0., 0., 0., 0., 0., 0., 0., 0., 0., 0., 0., 0., 0., 0., 0., 0.,\n",
       "       0., 0., 0., 0., 0., 0., 0., 0., 0., 0., 0., 0., 0., 0., 0., 0., 0.,\n",
       "       0., 0., 0., 0., 0., 0., 0., 0., 0., 0., 0., 0., 0., 0., 0., 0., 0.,\n",
       "       0., 0., 0., 0., 0., 0., 0., 0., 0., 0., 0., 0., 0., 0., 0., 0., 0.,\n",
       "       0., 0., 0., 0., 0., 0., 0., 0., 0., 0., 0., 0., 0., 0., 0., 0., 0.,\n",
       "       0., 0., 0., 0., 0., 0., 0., 0., 0., 0., 0., 0., 0., 0., 0., 0., 0.,\n",
       "       0., 0., 0., 0., 0., 0., 0., 0., 0., 0., 0., 0., 0., 0., 0., 0., 0.,\n",
       "       0., 0., 0., 0., 0., 0., 0., 0., 0., 0., 0., 0., 0., 0., 0., 0., 0.,\n",
       "       0., 0., 0., 0., 0., 0., 0., 0., 0., 0., 0., 0., 0., 0., 0., 0., 0.,\n",
       "       0., 0., 0., 0., 0., 0., 0., 0., 0., 0., 0., 0., 0., 0., 0., 0., 0.,\n",
       "       0., 0., 0., 0., 0., 0., 0., 0., 0., 0., 0., 0., 0., 0., 0., 0., 0.,\n",
       "       0., 0., 0., 0., 0., 0., 0., 0., 0., 0., 0., 0., 0., 0., 0., 0., 0.,\n",
       "       0., 0., 0., 0., 0., 0., 0., 0., 0., 0., 0.], dtype=float32)"
      ]
     },
     "execution_count": 18,
     "metadata": {},
     "output_type": "execute_result"
    }
   ],
   "source": [
    "biases"
   ]
  },
  {
   "cell_type": "markdown",
   "id": "1f523343",
   "metadata": {},
   "source": [
    "- 0で初期化している\n",
    "- bias_initializerで異なる初期化値を与えることが出来る"
   ]
  },
  {
   "cell_type": "code",
   "execution_count": 19,
   "id": "41f1e6ce",
   "metadata": {},
   "outputs": [
    {
     "data": {
      "text/plain": [
       "(300,)"
      ]
     },
     "execution_count": 19,
     "metadata": {},
     "output_type": "execute_result"
    }
   ],
   "source": [
    "biases.shape"
   ]
  },
  {
   "cell_type": "markdown",
   "id": "5c79af4d",
   "metadata": {},
   "source": [
    "## モデルのコンパイル"
   ]
  },
  {
   "cell_type": "code",
   "execution_count": 20,
   "id": "6554f05b",
   "metadata": {},
   "outputs": [],
   "source": [
    "#学習のためのモデルを設定\n",
    "model.compile(optimizer='sgd', loss='sparse_categorical_crossentropy', metrics=['accuracy'])\n",
    "# 損失関数の種類、評価指標、最適化関数を指定\n",
    "# sgd: 確率的勾配降下法を使ってモデルを訓練する  確率的勾配降下 (Stochastic gradient descent)。\n",
    "# loss: ラベルが疎でクラスが相互排他的だから sparse_categorical_crossentropy: 0,1,2,....9という数字そのものを損失関数に使用する\n",
    "# len(X_train), len(y_train) → 55000個を確認"
   ]
  },
  {
   "cell_type": "code",
   "execution_count": 21,
   "id": "18caae64",
   "metadata": {},
   "outputs": [
    {
     "name": "stderr",
     "output_type": "stream",
     "text": [
      "2021-10-08 11:54:18.000908: I tensorflow/compiler/mlir/mlir_graph_optimization_pass.cc:185] None of the MLIR Optimization Passes are enabled (registered 2)\n"
     ]
    },
    {
     "name": "stdout",
     "output_type": "stream",
     "text": [
      "Epoch 1/30\n",
      "1719/1719 [==============================] - 5s 3ms/step - loss: 0.7280 - accuracy: 0.7637 - val_loss: 0.5047 - val_accuracy: 0.8330\n",
      "Epoch 2/30\n",
      "1719/1719 [==============================] - 3s 2ms/step - loss: 0.4933 - accuracy: 0.8295 - val_loss: 0.4675 - val_accuracy: 0.8362\n",
      "Epoch 3/30\n",
      "1719/1719 [==============================] - 3s 2ms/step - loss: 0.4475 - accuracy: 0.8434 - val_loss: 0.4252 - val_accuracy: 0.8536\n",
      "Epoch 4/30\n",
      "1719/1719 [==============================] - 4s 2ms/step - loss: 0.4184 - accuracy: 0.8524 - val_loss: 0.4239 - val_accuracy: 0.8538\n",
      "Epoch 5/30\n",
      "1719/1719 [==============================] - 4s 2ms/step - loss: 0.3986 - accuracy: 0.8601 - val_loss: 0.4225 - val_accuracy: 0.8508\n",
      "Epoch 6/30\n",
      "1719/1719 [==============================] - 3s 2ms/step - loss: 0.3825 - accuracy: 0.8649 - val_loss: 0.3760 - val_accuracy: 0.8706\n",
      "Epoch 7/30\n",
      "1719/1719 [==============================] - 4s 2ms/step - loss: 0.3686 - accuracy: 0.8706 - val_loss: 0.3958 - val_accuracy: 0.8620\n",
      "Epoch 8/30\n",
      "1719/1719 [==============================] - 3s 2ms/step - loss: 0.3567 - accuracy: 0.8748 - val_loss: 0.3587 - val_accuracy: 0.8730\n",
      "Epoch 9/30\n",
      "1719/1719 [==============================] - 3s 2ms/step - loss: 0.3449 - accuracy: 0.8770 - val_loss: 0.3423 - val_accuracy: 0.8786\n",
      "Epoch 10/30\n",
      "1719/1719 [==============================] - 3s 2ms/step - loss: 0.3362 - accuracy: 0.8814 - val_loss: 0.3587 - val_accuracy: 0.8742\n",
      "Epoch 11/30\n",
      "1719/1719 [==============================] - 4s 2ms/step - loss: 0.3269 - accuracy: 0.8835 - val_loss: 0.3430 - val_accuracy: 0.8762\n",
      "Epoch 12/30\n",
      "1719/1719 [==============================] - 4s 2ms/step - loss: 0.3198 - accuracy: 0.8855 - val_loss: 0.3511 - val_accuracy: 0.8768\n",
      "Epoch 13/30\n",
      "1719/1719 [==============================] - 4s 2ms/step - loss: 0.3128 - accuracy: 0.8882 - val_loss: 0.3326 - val_accuracy: 0.8796\n",
      "Epoch 14/30\n",
      "1719/1719 [==============================] - 4s 2ms/step - loss: 0.3055 - accuracy: 0.8904 - val_loss: 0.3254 - val_accuracy: 0.8818\n",
      "Epoch 15/30\n",
      "1719/1719 [==============================] - 5s 3ms/step - loss: 0.2999 - accuracy: 0.8926 - val_loss: 0.3238 - val_accuracy: 0.8830\n",
      "Epoch 16/30\n",
      "1719/1719 [==============================] - 4s 2ms/step - loss: 0.2942 - accuracy: 0.8945 - val_loss: 0.3223 - val_accuracy: 0.8858\n",
      "Epoch 17/30\n",
      "1719/1719 [==============================] - 4s 2ms/step - loss: 0.2871 - accuracy: 0.8960 - val_loss: 0.3159 - val_accuracy: 0.8864\n",
      "Epoch 18/30\n",
      "1719/1719 [==============================] - 4s 2ms/step - loss: 0.2819 - accuracy: 0.8985 - val_loss: 0.3114 - val_accuracy: 0.8882\n",
      "Epoch 19/30\n",
      "1719/1719 [==============================] - 4s 2ms/step - loss: 0.2770 - accuracy: 0.9007 - val_loss: 0.3182 - val_accuracy: 0.8866\n",
      "Epoch 20/30\n",
      "1719/1719 [==============================] - 4s 2ms/step - loss: 0.2726 - accuracy: 0.9019 - val_loss: 0.3152 - val_accuracy: 0.8844\n",
      "Epoch 21/30\n",
      "1719/1719 [==============================] - 4s 2ms/step - loss: 0.2673 - accuracy: 0.9032 - val_loss: 0.3117 - val_accuracy: 0.8866\n",
      "Epoch 22/30\n",
      "1719/1719 [==============================] - 4s 2ms/step - loss: 0.2625 - accuracy: 0.9054 - val_loss: 0.3016 - val_accuracy: 0.8872\n",
      "Epoch 23/30\n",
      "1719/1719 [==============================] - 4s 3ms/step - loss: 0.2583 - accuracy: 0.9065 - val_loss: 0.3035 - val_accuracy: 0.8912\n",
      "Epoch 24/30\n",
      "1719/1719 [==============================] - 4s 2ms/step - loss: 0.2532 - accuracy: 0.9089 - val_loss: 0.3088 - val_accuracy: 0.8884\n",
      "Epoch 25/30\n",
      "1719/1719 [==============================] - 4s 3ms/step - loss: 0.2483 - accuracy: 0.9109 - val_loss: 0.3254 - val_accuracy: 0.8814\n",
      "Epoch 26/30\n",
      "1719/1719 [==============================] - 5s 3ms/step - loss: 0.2444 - accuracy: 0.9133 - val_loss: 0.3060 - val_accuracy: 0.8902\n",
      "Epoch 27/30\n",
      "1719/1719 [==============================] - 4s 2ms/step - loss: 0.2410 - accuracy: 0.9134 - val_loss: 0.3069 - val_accuracy: 0.8884\n",
      "Epoch 28/30\n",
      "1719/1719 [==============================] - 4s 2ms/step - loss: 0.2380 - accuracy: 0.9142 - val_loss: 0.3113 - val_accuracy: 0.8878\n",
      "Epoch 29/30\n",
      "1719/1719 [==============================] - 5s 3ms/step - loss: 0.2349 - accuracy: 0.9146 - val_loss: 0.3020 - val_accuracy: 0.8934\n",
      "Epoch 30/30\n",
      "1719/1719 [==============================] - 5s 3ms/step - loss: 0.2302 - accuracy: 0.9172 - val_loss: 0.2980 - val_accuracy: 0.8902\n"
     ]
    }
   ],
   "source": [
    "history = model.fit(X_train, y_train, epochs=30, validation_data=(X_valid, y_valid))"
   ]
  },
  {
   "cell_type": "markdown",
   "id": "b35238c7",
   "metadata": {},
   "source": [
    "エポック数：\n",
    "画像のデータセットを訓練に何周するのかという設定値\n",
    "\n",
    "- ミニバッチサイズ：\n",
    "    - ミニバッチサイズを10,20と設定すると、\n",
    "    - 画像10枚学習するごとに重みの更新をする、\n",
    "    - 画像20枚学習するごとに重みの更新をするというように、まとめて重みの更新を行うデータの数をミニバッチサイズと呼ぶ\n",
    "\n",
    "\n",
    "- 例えば、mnistの場合、全部で7万枚の画像がある\n",
    "- ６万枚を訓練に使うことが多い\n",
    "- ６万枚の画像をバッチサイズ10で学習するとなると、６万/１０で６千回の重みの更新がある\n",
    "- その重みの更新で、もし精度が上がりきっていない場合は、エポック数を3,5と設定すると\n",
    "- そのデータセットを3周ないし5周使用してみて、重みの更新をし続ける\n"
   ]
  },
  {
   "cell_type": "markdown",
   "id": "c50c3922",
   "metadata": {},
   "source": [
    "- 検証データセットを引数に与えると、\n",
    "- 検証セットに対す損失や正解率を表示してくれる → モデルの実際の性能を知るためにとても役に立つ\n",
    "- 性能の大小\n",
    "    - （例）訓練セット >> 検証セット  → モデルは訓練セットに過学習している"
   ]
  },
  {
   "cell_type": "code",
   "execution_count": 22,
   "id": "65ad9c5d",
   "metadata": {},
   "outputs": [
    {
     "data": {
      "image/png": "[encoded data removed]",
      "text/plain": [
       "<Figure size 576x360 with 1 Axes>"
      ]
     },
     "metadata": {
      "needs_background": "light"
     },
     "output_type": "display_data"
    }
   ],
   "source": [
    "import pandas as pd \n",
    "import matplotlib.pyplot as plt \n",
    "\n",
    "pd.DataFrame(history.history).plot(figsize=(8,5))\n",
    "plt.grid(True)\n",
    "plt.gca().set_ylim(0,1)\n",
    "plt.show()"
   ]
  },
  {
   "cell_type": "markdown",
   "id": "b0ff24a4",
   "metadata": {},
   "source": [
    "- ２つの損失関数のグラフを見ると、過学習している\n",
    "- 検証セットが5000個と少ないのが原因と見ている"
   ]
  },
  {
   "cell_type": "markdown",
   "id": "c8506a6f",
   "metadata": {},
   "source": [
    "### テストセットによる評価"
   ]
  },
  {
   "cell_type": "code",
   "execution_count": 23,
   "id": "225f275d",
   "metadata": {},
   "outputs": [
    {
     "name": "stdout",
     "output_type": "stream",
     "text": [
      "313/313 [==============================] - 1s 3ms/step - loss: 62.0209 - accuracy: 0.8473\n"
     ]
    },
    {
     "data": {
      "text/plain": [
       "[62.02089309692383, 0.8472999930381775]"
      ]
     },
     "execution_count": 23,
     "metadata": {},
     "output_type": "execute_result"
    }
   ],
   "source": [
    "model.evaluate(X_test, y_test)"
   ]
  },
  {
   "cell_type": "markdown",
   "id": "a18d5cd8",
   "metadata": {},
   "source": [
    "## モデルを使った予測"
   ]
  },
  {
   "cell_type": "code",
   "execution_count": 24,
   "id": "2c8a77e8",
   "metadata": {},
   "outputs": [
    {
     "data": {
      "text/plain": [
       "array([[0., 0., 0., 0., 0., 0., 0., 0., 0., 1.],\n",
       "       [0., 0., 1., 0., 0., 0., 0., 0., 0., 0.],\n",
       "       [0., 1., 0., 0., 0., 0., 0., 0., 0., 0.]], dtype=float32)"
      ]
     },
     "execution_count": 24,
     "metadata": {},
     "output_type": "execute_result"
    }
   ],
   "source": [
    "X_new = X_test[:3]\n",
    "y_proba = model.predict(X_new)\n",
    "y_proba.round(2)\n",
    "\n",
    "\n",
    "\n",
    "\n"
   ]
  },
  {
   "cell_type": "code",
   "execution_count": 25,
   "id": "084e9eb4",
   "metadata": {},
   "outputs": [
    {
     "data": {
      "text/plain": [
       "array([9, 2, 1])"
      ]
     },
     "execution_count": 25,
     "metadata": {},
     "output_type": "execute_result"
    }
   ],
   "source": [
    "# 推定確率が最も高いクラスさえわかればよい場合の推定したものを表示\n",
    "y_pred = model.predict(X_new)\n",
    "classes_x=np.argmax(y_pred, axis=1)\n",
    "classes_x"
   ]
  },
  {
   "cell_type": "code",
   "execution_count": 26,
   "id": "c1f5cb39",
   "metadata": {},
   "outputs": [
    {
     "data": {
      "text/plain": [
       "array(['Ankle boot', 'Pullover', 'Trouser'], dtype='<U11')"
      ]
     },
     "execution_count": 26,
     "metadata": {},
     "output_type": "execute_result"
    }
   ],
   "source": [
    "np.array(class_name)[classes_x]"
   ]
  },
  {
   "cell_type": "code",
   "execution_count": 27,
   "id": "6f6519bc",
   "metadata": {},
   "outputs": [
    {
     "ename": "SyntaxError",
     "evalue": "invalid syntax (1090935365.py, line 2)",
     "output_type": "error",
     "traceback": [
      "\u001b[0;36m  File \u001b[0;32m\"/tmp/ipykernel_29941/1090935365.py\"\u001b[0;36m, line \u001b[0;32m2\u001b[0m\n\u001b[0;31m    y_new = y_test[]\u001b[0m\n\u001b[0m                   ^\u001b[0m\n\u001b[0;31mSyntaxError\u001b[0m\u001b[0;31m:\u001b[0m invalid syntax\n"
     ]
    }
   ],
   "source": [
    "# 正解ラベルを表示\n",
    "# y_new = y_test[]\n"
   ]
  },
  {
   "cell_type": "markdown",
   "id": "e617347c",
   "metadata": {},
   "source": [
    "# シーケンシャルAPIを使った回帰MLPの構築"
   ]
  },
  {
   "cell_type": "code",
   "execution_count": 92,
   "id": "f0bf670b",
   "metadata": {},
   "outputs": [],
   "source": [
    "from sklearn.datasets import fetch_california_housing\n",
    "from sklearn.model_selection import train_test_split\n",
    "from sklearn.preprocessing import StandardScaler"
   ]
  },
  {
   "cell_type": "code",
   "execution_count": 93,
   "id": "d2fb4022",
   "metadata": {},
   "outputs": [],
   "source": [
    "housing = fetch_california_housing()#インスタンス生成\n",
    "# 全体データから、訓練データとテストデータに分ける\n",
    "X_train_full, X_test, y_train_full, y_test = train_test_split(\n",
    "    housing.data, housing.target)\n",
    "# 訓練データから、訓練セットと検証セットに分ける\n",
    "X_train, X_valid, y_train, y_valid = train_test_split(\n",
    "    X_train_full, y_train_full)"
   ]
  },
  {
   "cell_type": "code",
   "execution_count": 94,
   "id": "4e520b69",
   "metadata": {},
   "outputs": [],
   "source": [
    "scaler = StandardScaler()# インスタンス生成\n",
    "X_train = scaler.fit_transform(X_train)\n",
    "X_valid = scaler.transform(X_valid)\n",
    "X_test = scaler.transform(X_test)"
   ]
  },
  {
   "cell_type": "code",
   "execution_count": 95,
   "id": "8dba4f01",
   "metadata": {},
   "outputs": [],
   "source": [
    "# print('X_train:{}'.format(X_train.shape))\n",
    "# print('X_valid:{}'.format(X_valid.shape))\n",
    "# print('X_test:{}'.format(X_test.shape))"
   ]
  },
  {
   "cell_type": "code",
   "execution_count": 135,
   "id": "84137770",
   "metadata": {},
   "outputs": [],
   "source": [
    "# ニューラルネットワークの作成\n",
    "model = keras.models.Sequential([\n",
    "    keras.layers.Dense(units=30, activation='relu', input_shape=X_train.shape[1:]),\n",
    "    keras.layers.Dense(1)\n",
    "])"
   ]
  },
  {
   "cell_type": "code",
   "execution_count": 136,
   "id": "f2db06d5",
   "metadata": {},
   "outputs": [],
   "source": [
    "# 各使用関数の設定\n",
    "# 損失関数、最適化関数を設定\n",
    "# import tensorflow as tf\n",
    "# from keras import optimizers\n",
    "\n",
    "sgd = tf.keras.optimizers.SGD(lr=0.01, clipvalue=1.)\n",
    "model.compile(loss='mean_squared_error', optimizer=sgd)"
   ]
  },
  {
   "cell_type": "code",
   "execution_count": 137,
   "id": "b9b59b5d",
   "metadata": {},
   "outputs": [
    {
     "name": "stdout",
     "output_type": "stream",
     "text": [
      "Epoch 1/20\n",
      "363/363 [==============================] - 1s 1ms/step - loss: 0.8102 - val_loss: 0.5386\n",
      "Epoch 2/20\n",
      "363/363 [==============================] - 0s 1ms/step - loss: 0.6265 - val_loss: 0.4617\n",
      "Epoch 3/20\n",
      "363/363 [==============================] - 0s 1ms/step - loss: 0.5907 - val_loss: 0.4426\n",
      "Epoch 4/20\n",
      "363/363 [==============================] - 0s 1ms/step - loss: 0.5631 - val_loss: 0.4278\n",
      "Epoch 5/20\n",
      "363/363 [==============================] - 0s 1ms/step - loss: 0.5025 - val_loss: 0.4162\n",
      "Epoch 6/20\n",
      "363/363 [==============================] - 0s 988us/step - loss: 0.4691 - val_loss: 0.4099\n",
      "Epoch 7/20\n",
      "363/363 [==============================] - 0s 997us/step - loss: 0.4470 - val_loss: 0.4098\n",
      "Epoch 8/20\n",
      "363/363 [==============================] - 0s 1ms/step - loss: 0.4030 - val_loss: 0.3959\n",
      "Epoch 9/20\n",
      "363/363 [==============================] - 0s 1ms/step - loss: 0.3906 - val_loss: 0.3922\n",
      "Epoch 10/20\n",
      "363/363 [==============================] - 0s 1ms/step - loss: 0.3857 - val_loss: 0.3943\n",
      "Epoch 11/20\n",
      "363/363 [==============================] - 0s 1ms/step - loss: 0.3793 - val_loss: 0.3926\n",
      "Epoch 12/20\n",
      "363/363 [==============================] - 0s 1ms/step - loss: 0.3741 - val_loss: 0.3811\n",
      "Epoch 13/20\n",
      "363/363 [==============================] - 0s 1ms/step - loss: 0.3711 - val_loss: 0.3798\n",
      "Epoch 14/20\n",
      "363/363 [==============================] - 0s 1ms/step - loss: 0.3683 - val_loss: 0.3809\n",
      "Epoch 15/20\n",
      "363/363 [==============================] - 0s 1ms/step - loss: 0.3670 - val_loss: 0.3745\n",
      "Epoch 16/20\n",
      "363/363 [==============================] - 0s 1ms/step - loss: 0.3620 - val_loss: 0.3778\n",
      "Epoch 17/20\n",
      "363/363 [==============================] - 0s 1ms/step - loss: 0.3636 - val_loss: 0.3794\n",
      "Epoch 18/20\n",
      "363/363 [==============================] - 0s 1ms/step - loss: 0.3608 - val_loss: 0.3763\n",
      "Epoch 19/20\n",
      "363/363 [==============================] - 0s 1ms/step - loss: 0.3565 - val_loss: 0.3766\n",
      "Epoch 20/20\n",
      "363/363 [==============================] - 0s 1ms/step - loss: 0.3547 - val_loss: 0.3716\n"
     ]
    }
   ],
   "source": [
    "#モデルの訓練\n",
    "history = model.fit(X_train, y_train, epochs=20, validation_data=(X_valid, y_valid))"
   ]
  },
  {
   "cell_type": "markdown",
   "id": "a86e36ec",
   "metadata": {},
   "source": [
    "- 学習率のデフォルト値が0.01\n",
    "- 学習率が大きいと発散することがある\n",
    "- 学習率の値を変えてみてどのように値が変化するのかを見てみると、\n",
    "    - グラグラと値が変化するが、収束はしていそう"
   ]
  },
  {
   "cell_type": "code",
   "execution_count": 62,
   "id": "2f6a3086",
   "metadata": {},
   "outputs": [
    {
     "name": "stdout",
     "output_type": "stream",
     "text": [
      "162/162 [==============================] - 0s 702us/step - loss: 0.5150\n"
     ]
    }
   ],
   "source": [
    "# モデルの汎化性能を調査する(テストセットによる評価）\n",
    "mse_test = model.evaluate(X_test, y_test)"
   ]
  },
  {
   "cell_type": "code",
   "execution_count": 64,
   "id": "8a23c345",
   "metadata": {},
   "outputs": [
    {
     "data": {
      "text/plain": [
       "array([[3.3627903],\n",
       "       [1.2901381],\n",
       "       [2.5949323]], dtype=float32)"
      ]
     },
     "execution_count": 64,
     "metadata": {},
     "output_type": "execute_result"
    }
   ],
   "source": [
    "# モデルを使って予測する\n",
    "X_new = X_test[:3]\n",
    "y_pred = model.predict(X_new)\n",
    "y_pred"
   ]
  },
  {
   "cell_type": "code",
   "execution_count": null,
   "id": "70d2e537",
   "metadata": {},
   "outputs": [],
   "source": []
  },
  {
   "cell_type": "code",
   "execution_count": null,
   "id": "efda9176",
   "metadata": {},
   "outputs": [],
   "source": []
  },
  {
   "cell_type": "code",
   "execution_count": null,
   "id": "7478b980",
   "metadata": {},
   "outputs": [],
   "source": []
  },
  {
   "cell_type": "code",
   "execution_count": null,
   "id": "ef2ef863",
   "metadata": {},
   "outputs": [],
   "source": []
  },
  {
   "cell_type": "code",
   "execution_count": null,
   "id": "1fcbc235",
   "metadata": {},
   "outputs": [],
   "source": [
    "import numpy as np\n",
    "arr = np.array([[1,2,3], [4,5,6], [7,8,9]])\n",
    "arr2 = arr.reshape(-1,1)"
   ]
  },
  {
   "cell_type": "code",
   "execution_count": null,
   "id": "a3127bc8",
   "metadata": {},
   "outputs": [],
   "source": [
    "arr "
   ]
  },
  {
   "cell_type": "code",
   "execution_count": null,
   "id": "3b4be43e",
   "metadata": {},
   "outputs": [],
   "source": [
    "arr2"
   ]
  },
  {
   "cell_type": "code",
   "execution_count": null,
   "id": "5ac057c1",
   "metadata": {},
   "outputs": [],
   "source": []
  }
 ],
 "metadata": {
  "kernelspec": {
   "display_name": "hands-on_ML",
   "language": "python",
   "name": "hands-on_ml"
  },
  "language_info": {
   "codemirror_mode": {
    "name": "ipython",
    "version": 3
   },
   "file_extension": ".py",
   "mimetype": "text/x-python",
   "name": "python",
   "nbconvert_exporter": "python",
   "pygments_lexer": "ipython3",
   "version": "3.9.7"
  },
  "toc": {
   "base_numbering": 1,
   "nav_menu": {},
   "number_sections": true,
   "sideBar": true,
   "skip_h1_title": false,
   "title_cell": "Table of Contents",
   "title_sidebar": "Contents",
   "toc_cell": false,
   "toc_position": {
    "height": "calc(100% - 180px)",
    "left": "10px",
    "top": "150px",
    "width": "165px"
   },
   "toc_section_display": true,
   "toc_window_display": true
  }
 },
 "nbformat": 4,
 "nbformat_minor": 5
}
