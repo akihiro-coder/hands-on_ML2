{
 "cells": [
  {
   "cell_type": "code",
   "execution_count": 3,
   "metadata": {},
   "outputs": [
    {
     "data": {
      "text/plain": [
       "0"
      ]
     },
     "execution_count": 3,
     "metadata": {},
     "output_type": "execute_result"
    }
   ],
   "source": [
    "import datetime #datatimeモジュールのインポート\n",
    "d = datetime.date(2021, 6, 21) #dateクラスのインスタンスを作成\n",
    "d.year #データ属性year\n",
    "d.weekday() #weekdayメソッド、場合によって引数を持つこともある"
   ]
  },
  {
   "cell_type": "code",
   "execution_count": 1,
   "metadata": {},
   "outputs": [
    {
     "name": "stdout",
     "output_type": "stream",
     "text": [
      "John Smith\n",
      "Robert Johnson\n"
     ]
    }
   ],
   "source": [
    "# encoding = \"utf-8\"\n",
    "#クラス定義\n",
    "class Person: #Personクラスの定義\n",
    "    def __init__(self, first_name=\"\", last_name=\"\"): \n",
    "        #__init__: コンストラクタ、クラスのインスタンス化時に呼ばれる、引数selfは自分自身、メソッドを定義する時に必要\n",
    "        self.first_name = first_name #データ属性の定義\n",
    "        self.last_name = last_name #データ属性の定義\n",
    "        \n",
    "        \n",
    "#データ属性へのアクセス方法①\n",
    "person1 = Person(\"John\", \"Smith\") \n",
    "#引数としてJohnとSmithを入れたため、インスタンス内のデータ属性にはJohnとSmithが設定される\n",
    "#Personクラスをインスタンス化して変数に代入する\n",
    "#person1.first_nameのようにデータ属性にアクセスする\n",
    "print(person1.first_name, person1.last_name)\n",
    "\n",
    "\n",
    "person2 = Person() #デフォルトを使用してインスタンスを作成\n",
    "#データ属性へのアクセス方法②\n",
    "person2.first_name = \"Robert\" #データ属性に直接アクセスして値を書き換える\n",
    "person2.last_name = \"Johnson\" #データ属性に直接アクセスして値を書き換える\n",
    "print(person2.first_name, person2.last_name)"
   ]
  },
  {
   "cell_type": "code",
   "execution_count": 23,
   "metadata": {},
   "outputs": [
    {
     "name": "stdout",
     "output_type": "stream",
     "text": [
      "John Smith\n",
      "Smith, John\n"
     ]
    }
   ],
   "source": [
    "#クラスにメソッドを追加してみる\n",
    "class Person: #Personクラスの定義\n",
    "    def __init__(self, first_name=\"\", last_name=\"\"): #__init__: コンストラクタ、クラスのインスタンス化時に呼ばれる、引数selfは自分自身、メソッドを定義する時に必要\n",
    "        self.first_name = first_name #データ属性の定義\n",
    "        self.last_name = last_name #データ属性の定義\n",
    "    def get_name(self): #メソッド追加\n",
    "        return self.first_name + \" \" + self.last_name\n",
    "    def __str__(self): #特殊メソッド\n",
    "        return self.last_name + \", \" + self.first_name\n",
    "\n",
    "person1 = Person(\"John\", \"Smith\") \n",
    "print(person1.get_name()) #メソッドへのアクセス方法、明示的に指定する\n",
    "print(person1) #__str__メソッドの呼び出し、特殊メソッド、明示的にしなくてもいい\n"
   ]
  },
  {
   "cell_type": "code",
   "execution_count": 31,
   "metadata": {},
   "outputs": [
    {
     "data": {
      "text/plain": [
       "datetime.date(2018, 1, 1)"
      ]
     },
     "execution_count": 31,
     "metadata": {},
     "output_type": "execute_result"
    }
   ],
   "source": [
    "#クラスのインポートの仕方\n",
    "\n",
    "# ①\n",
    "# import datetime #モジュールのインポート\n",
    "# d = datetime.date(2018, 1, 1) #dateオブジェクトの作成\n",
    "# d\n",
    "\n",
    "# ②\n",
    "# from datetime import date #モジュールからdateクラスをインポート\n",
    "# d = date(2018, 1, 1) #モジュール名を書く必要なし\n",
    "# d\n",
    "\n",
    "# ③　全てのクラスをインポート、この方法は複数のモジュールをインポートした時に、名前の衝突が起こる可能性がある\n",
    "# from datetime import *\n",
    "# d = date(2018, 1, 1)\n",
    "# d\n",
    "\n",
    "# ④\n",
    "# import datetime as dt #モジュールのショートカットを作成\n",
    "# d = dt.date(2018, 1, 1)\n",
    "# d"
   ]
  },
  {
   "cell_type": "code",
   "execution_count": null,
   "metadata": {},
   "outputs": [],
   "source": []
  },
  {
   "cell_type": "code",
   "execution_count": null,
   "metadata": {},
   "outputs": [],
   "source": []
  },
  {
   "cell_type": "code",
   "execution_count": null,
   "metadata": {},
   "outputs": [],
   "source": []
  },
  {
   "cell_type": "code",
   "execution_count": 5,
   "metadata": {},
   "outputs": [
    {
     "data": {
      "image/png": "[encoded data removed]",
      "text/plain": [
       "<PIL.Image.Image image mode=RGB size=400x400 at 0x7F319801F880>"
      ]
     },
     "metadata": {},
     "output_type": "display_data"
    },
    {
     "name": "stdout",
     "output_type": "stream",
     "text": [
      "<class 'function'>\n"
     ]
    }
   ],
   "source": [
    "from PIL import Image, ImageDraw\n",
    "im = Image.new(\"RGB\", (400,400), (200,200,200))\n",
    "draw = ImageDraw.Draw(im)\n",
    "draw.ellipse(((50,50), (150,150)),fill=(0,255,0))\n",
    "draw.rectangle(((100,150), (180,250)), fill=(0,255,0), outline=(0,0,255), width=5)\n",
    "draw.line(((0,100), (300,100)), fill=(255, 255, 0), width=2)\n",
    "display(im)\n",
    "\n",
    "\n",
    "# print(type(display))\n",
    "# print(type(im))\n",
    "# print(type(draw))"
   ]
  },
  {
   "cell_type": "code",
   "execution_count": 8,
   "metadata": {},
   "outputs": [
    {
     "data": {
      "image/png": "[encoded data removed]",
      "text/plain": [
       "<PIL.Image.Image image mode=RGB size=400x400 at 0x7F319801F880>"
      ]
     },
     "metadata": {},
     "output_type": "display_data"
    }
   ],
   "source": [
    "import random\n",
    "from PIL import Image, ImageDraw\n",
    "im = Image.new(\"RGB\", (400,400), (200,200,200)) #全体の装飾　→　クラスからimモジュールを作成\n",
    "draw = ImageDraw.Draw(im) #imモジュールを元に、drawモジュールを作成\n",
    "k = 0\n",
    "while k < 30:\n",
    "    a = random.randint(0,400)\n",
    "    b = random.randint(0,400)\n",
    "    \n",
    "    rad = random.randint(10,30)\n",
    "    \n",
    "    r = random.randint(0,256)\n",
    "    g = random.randint(0,256)\n",
    "    b = random.randint(0,256)\n",
    "    \n",
    "    draw.ellipse(((a-rad,b-rad),(a+rad, b+rad)), fill=(r,g,b))\n",
    "    k = k + 1\n",
    "\n",
    "display(im)"
   ]
  },
  {
   "cell_type": "code",
   "execution_count": null,
   "metadata": {},
   "outputs": [],
   "source": [
    "import random\n",
    "from PIL import Image, ImageDraw\n",
    "im = Image.new(\"RGB\", (500,500), (221,238,255))\n",
    "draw = ImageDraw.Draw(im)\n",
    "k = 0\n",
    "while k < 999:\n",
    "\n",
    "    a = random.randint(0,500)\n",
    "    b = random.randint(0,500)\n",
    "\n",
    "    draw.ellipse(((a-2,b-2),(a+3, b+3)), fill=(0,0,0))\n",
    "    k = k + 1\n",
    "\n",
    "display(im)"
   ]
  },
  {
   "cell_type": "code",
   "execution_count": null,
   "metadata": {},
   "outputs": [],
   "source": [
    "num = 1\n",
    "n = 0\n",
    "while num < 10000:\n",
    "    if num % 37 == 7:\n",
    "        n = n + num\n",
    "        num = num + 1\n",
    "\n",
    "print(\"合計値\", n)"
   ]
  },
  {
   "cell_type": "code",
   "execution_count": 10,
   "metadata": {},
   "outputs": [
    {
     "name": "stdout",
     "output_type": "stream",
     "text": [
      "0 番目の色は 赤 です\n",
      "おしまい\n"
     ]
    }
   ],
   "source": [
    "i = 0\n",
    "colors = [\"赤\", \"青\", \"黄\", \"緑\", \"紫\"]\n",
    "\n",
    "for color in colors[i]:\n",
    "    print(i, \"番目の色は\", color, \"です\")\n",
    "    i += 1\n",
    "\n",
    "# for color in colors:\n",
    "#     print(i, \"番目の色は\", color, \"です\")\n",
    "#     i += 1\n",
    "    \n",
    "print(\"おしまい\")"
   ]
  }
 ],
 "metadata": {
  "kernelspec": {
   "display_name": "Python 3",
   "language": "python",
   "name": "python3"
  },
  "language_info": {
   "codemirror_mode": {
    "name": "ipython",
    "version": 3
   },
   "file_extension": ".py",
   "mimetype": "text/x-python",
   "name": "python",
   "nbconvert_exporter": "python",
   "pygments_lexer": "ipython3",
   "version": "3.8.5"
  }
 },
 "nbformat": 4,
 "nbformat_minor": 4
}
